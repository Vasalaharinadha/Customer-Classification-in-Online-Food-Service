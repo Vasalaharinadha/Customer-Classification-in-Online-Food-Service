{
 "cells": [
  {
   "cell_type": "code",
   "execution_count": 1,
   "id": "cd61b5fe",
   "metadata": {},
   "outputs": [],
   "source": [
    "import numpy as np\n",
    "import pandas as pd\n",
    "import seaborn as sns"
   ]
  },
  {
   "cell_type": "code",
   "execution_count": 2,
   "id": "276c59fa",
   "metadata": {},
   "outputs": [],
   "source": [
    "\n",
    "df=pd.read_excel('C:\\\\Users\\\\vasala harinadha\\\\OneDrive\\\\Desktop\\\\onlinefoods_.xlsx' , header=0)"
   ]
  },
  {
   "cell_type": "code",
   "execution_count": 3,
   "id": "c600b3a7",
   "metadata": {},
   "outputs": [
    {
     "data": {
      "text/html": [
       "<div>\n",
       "<style scoped>\n",
       "    .dataframe tbody tr th:only-of-type {\n",
       "        vertical-align: middle;\n",
       "    }\n",
       "\n",
       "    .dataframe tbody tr th {\n",
       "        vertical-align: top;\n",
       "    }\n",
       "\n",
       "    .dataframe thead th {\n",
       "        text-align: right;\n",
       "    }\n",
       "</style>\n",
       "<table border=\"1\" class=\"dataframe\">\n",
       "  <thead>\n",
       "    <tr style=\"text-align: right;\">\n",
       "      <th></th>\n",
       "      <th>Age</th>\n",
       "      <th>Gender</th>\n",
       "      <th>Marital Status</th>\n",
       "      <th>Occupation</th>\n",
       "      <th>Educational Qualifications</th>\n",
       "      <th>Family size</th>\n",
       "      <th>Pin code</th>\n",
       "      <th>Feedback</th>\n",
       "    </tr>\n",
       "  </thead>\n",
       "  <tbody>\n",
       "    <tr>\n",
       "      <th>0</th>\n",
       "      <td>20</td>\n",
       "      <td>Female</td>\n",
       "      <td>Single</td>\n",
       "      <td>Student</td>\n",
       "      <td>Post Graduate</td>\n",
       "      <td>4</td>\n",
       "      <td>560001</td>\n",
       "      <td>Positive</td>\n",
       "    </tr>\n",
       "    <tr>\n",
       "      <th>1</th>\n",
       "      <td>24</td>\n",
       "      <td>Female</td>\n",
       "      <td>Single</td>\n",
       "      <td>Student</td>\n",
       "      <td>Graduate</td>\n",
       "      <td>3</td>\n",
       "      <td>560009</td>\n",
       "      <td>Positive</td>\n",
       "    </tr>\n",
       "    <tr>\n",
       "      <th>2</th>\n",
       "      <td>22</td>\n",
       "      <td>Male</td>\n",
       "      <td>Single</td>\n",
       "      <td>Student</td>\n",
       "      <td>Post Graduate</td>\n",
       "      <td>3</td>\n",
       "      <td>560017</td>\n",
       "      <td>Negative</td>\n",
       "    </tr>\n",
       "    <tr>\n",
       "      <th>3</th>\n",
       "      <td>22</td>\n",
       "      <td>Female</td>\n",
       "      <td>Single</td>\n",
       "      <td>Student</td>\n",
       "      <td>Graduate</td>\n",
       "      <td>6</td>\n",
       "      <td>560019</td>\n",
       "      <td>Positive</td>\n",
       "    </tr>\n",
       "    <tr>\n",
       "      <th>4</th>\n",
       "      <td>22</td>\n",
       "      <td>Male</td>\n",
       "      <td>Single</td>\n",
       "      <td>Student</td>\n",
       "      <td>Post Graduate</td>\n",
       "      <td>4</td>\n",
       "      <td>560010</td>\n",
       "      <td>Positive</td>\n",
       "    </tr>\n",
       "  </tbody>\n",
       "</table>\n",
       "</div>"
      ],
      "text/plain": [
       "   Age  Gender Marital Status Occupation Educational Qualifications  \\\n",
       "0   20  Female         Single    Student              Post Graduate   \n",
       "1   24  Female         Single    Student                   Graduate   \n",
       "2   22    Male         Single    Student              Post Graduate   \n",
       "3   22  Female         Single    Student                   Graduate   \n",
       "4   22    Male         Single    Student              Post Graduate   \n",
       "\n",
       "   Family size  Pin code   Feedback  \n",
       "0            4    560001   Positive  \n",
       "1            3    560009   Positive  \n",
       "2            3    560017  Negative   \n",
       "3            6    560019   Positive  \n",
       "4            4    560010   Positive  "
      ]
     },
     "execution_count": 3,
     "metadata": {},
     "output_type": "execute_result"
    }
   ],
   "source": [
    "df.head()"
   ]
  },
  {
   "cell_type": "code",
   "execution_count": 5,
   "id": "72751488",
   "metadata": {},
   "outputs": [
    {
     "name": "stdout",
     "output_type": "stream",
     "text": [
      "<class 'pandas.core.frame.DataFrame'>\n",
      "RangeIndex: 388 entries, 0 to 387\n",
      "Data columns (total 8 columns):\n",
      " #   Column                      Non-Null Count  Dtype \n",
      "---  ------                      --------------  ----- \n",
      " 0   Age                         388 non-null    int64 \n",
      " 1   Gender                      388 non-null    object\n",
      " 2   Marital Status              388 non-null    object\n",
      " 3   Occupation                  388 non-null    object\n",
      " 4   Educational Qualifications  388 non-null    object\n",
      " 5   Family size                 388 non-null    int64 \n",
      " 6   Pin code                    388 non-null    int64 \n",
      " 7   Feedback                    388 non-null    object\n",
      "dtypes: int64(3), object(5)\n",
      "memory usage: 24.4+ KB\n"
     ]
    }
   ],
   "source": [
    "df.info()"
   ]
  },
  {
   "cell_type": "code",
   "execution_count": 6,
   "id": "e8f52792",
   "metadata": {},
   "outputs": [
    {
     "data": {
      "text/html": [
       "<div>\n",
       "<style scoped>\n",
       "    .dataframe tbody tr th:only-of-type {\n",
       "        vertical-align: middle;\n",
       "    }\n",
       "\n",
       "    .dataframe tbody tr th {\n",
       "        vertical-align: top;\n",
       "    }\n",
       "\n",
       "    .dataframe thead th {\n",
       "        text-align: right;\n",
       "    }\n",
       "</style>\n",
       "<table border=\"1\" class=\"dataframe\">\n",
       "  <thead>\n",
       "    <tr style=\"text-align: right;\">\n",
       "      <th></th>\n",
       "      <th>Age</th>\n",
       "      <th>Family size</th>\n",
       "      <th>Pin code</th>\n",
       "    </tr>\n",
       "  </thead>\n",
       "  <tbody>\n",
       "    <tr>\n",
       "      <th>count</th>\n",
       "      <td>388.000000</td>\n",
       "      <td>388.000000</td>\n",
       "      <td>388.000000</td>\n",
       "    </tr>\n",
       "    <tr>\n",
       "      <th>mean</th>\n",
       "      <td>24.628866</td>\n",
       "      <td>3.280928</td>\n",
       "      <td>560040.113402</td>\n",
       "    </tr>\n",
       "    <tr>\n",
       "      <th>std</th>\n",
       "      <td>2.975593</td>\n",
       "      <td>1.351025</td>\n",
       "      <td>31.399609</td>\n",
       "    </tr>\n",
       "    <tr>\n",
       "      <th>min</th>\n",
       "      <td>18.000000</td>\n",
       "      <td>1.000000</td>\n",
       "      <td>560001.000000</td>\n",
       "    </tr>\n",
       "    <tr>\n",
       "      <th>25%</th>\n",
       "      <td>23.000000</td>\n",
       "      <td>2.000000</td>\n",
       "      <td>560010.750000</td>\n",
       "    </tr>\n",
       "    <tr>\n",
       "      <th>50%</th>\n",
       "      <td>24.000000</td>\n",
       "      <td>3.000000</td>\n",
       "      <td>560033.500000</td>\n",
       "    </tr>\n",
       "    <tr>\n",
       "      <th>75%</th>\n",
       "      <td>26.000000</td>\n",
       "      <td>4.000000</td>\n",
       "      <td>560068.000000</td>\n",
       "    </tr>\n",
       "    <tr>\n",
       "      <th>max</th>\n",
       "      <td>33.000000</td>\n",
       "      <td>6.000000</td>\n",
       "      <td>560109.000000</td>\n",
       "    </tr>\n",
       "  </tbody>\n",
       "</table>\n",
       "</div>"
      ],
      "text/plain": [
       "              Age  Family size       Pin code\n",
       "count  388.000000   388.000000     388.000000\n",
       "mean    24.628866     3.280928  560040.113402\n",
       "std      2.975593     1.351025      31.399609\n",
       "min     18.000000     1.000000  560001.000000\n",
       "25%     23.000000     2.000000  560010.750000\n",
       "50%     24.000000     3.000000  560033.500000\n",
       "75%     26.000000     4.000000  560068.000000\n",
       "max     33.000000     6.000000  560109.000000"
      ]
     },
     "execution_count": 6,
     "metadata": {},
     "output_type": "execute_result"
    }
   ],
   "source": [
    "df.describe()"
   ]
  },
  {
   "cell_type": "code",
   "execution_count": 7,
   "id": "32ac72b3",
   "metadata": {},
   "outputs": [
    {
     "data": {
      "text/plain": [
       "<Axes: xlabel='Marital Status', ylabel='count'>"
      ]
     },
     "execution_count": 7,
     "metadata": {},
     "output_type": "execute_result"
    },
    {
     "data": {
      "image/png": "[encoded data removed]",
      "text/plain": [
       "<Figure size 640x480 with 1 Axes>"
      ]
     },
     "metadata": {},
     "output_type": "display_data"
    }
   ],
   "source": [
    "sns.countplot(x='Marital Status',data=df)"
   ]
  },
  {
   "cell_type": "code",
   "execution_count": 8,
   "id": "6575b43d",
   "metadata": {},
   "outputs": [
    {
     "data": {
      "text/plain": [
       "<seaborn.axisgrid.JointGrid at 0x1e142f11050>"
      ]
     },
     "execution_count": 8,
     "metadata": {},
     "output_type": "execute_result"
    },
    {
     "data": {
      "image/png": "[encoded data removed]",
      "text/plain": [
       "<Figure size 600x600 with 3 Axes>"
      ]
     },
     "metadata": {},
     "output_type": "display_data"
    }
   ],
   "source": [
    "sns.jointplot(x='Gender', y='Feedback'    ,data=df)"
   ]
  },
  {
   "cell_type": "code",
   "execution_count": 9,
   "id": "252322d8",
   "metadata": {},
   "outputs": [
    {
     "data": {
      "text/plain": [
       "<seaborn.axisgrid.JointGrid at 0x1e145491050>"
      ]
     },
     "execution_count": 9,
     "metadata": {},
     "output_type": "execute_result"
    },
    {
     "data": {
      "image/png": "[encoded data removed]",
      "text/plain": [
       "<Figure size 600x600 with 3 Axes>"
      ]
     },
     "metadata": {},
     "output_type": "display_data"
    }
   ],
   "source": [
    "sns.jointplot(x='Educational Qualifications', y='Family size'    ,data=df)"
   ]
  },
  {
   "cell_type": "code",
   "execution_count": 10,
   "id": "5d66fa63",
   "metadata": {},
   "outputs": [],
   "source": [
    "df = pd.get_dummies(df).astype(int)"
   ]
  },
  {
   "cell_type": "code",
   "execution_count": 11,
   "id": "b2da45c2",
   "metadata": {},
   "outputs": [
    {
     "data": {
      "text/html": [
       "<div>\n",
       "<style scoped>\n",
       "    .dataframe tbody tr th:only-of-type {\n",
       "        vertical-align: middle;\n",
       "    }\n",
       "\n",
       "    .dataframe tbody tr th {\n",
       "        vertical-align: top;\n",
       "    }\n",
       "\n",
       "    .dataframe thead th {\n",
       "        text-align: right;\n",
       "    }\n",
       "</style>\n",
       "<table border=\"1\" class=\"dataframe\">\n",
       "  <thead>\n",
       "    <tr style=\"text-align: right;\">\n",
       "      <th></th>\n",
       "      <th>Age</th>\n",
       "      <th>Family size</th>\n",
       "      <th>Pin code</th>\n",
       "      <th>Gender_Female</th>\n",
       "      <th>Gender_Male</th>\n",
       "      <th>Marital Status_Married</th>\n",
       "      <th>Marital Status_Prefer not to say</th>\n",
       "      <th>Marital Status_Single</th>\n",
       "      <th>Occupation_Employee</th>\n",
       "      <th>Occupation_Student</th>\n",
       "      <th>Educational Qualifications_Graduate</th>\n",
       "      <th>Educational Qualifications_Post Graduate</th>\n",
       "      <th>Educational Qualifications_Uneducated</th>\n",
       "      <th>Feedback_Negative</th>\n",
       "      <th>Feedback_Positive</th>\n",
       "    </tr>\n",
       "  </thead>\n",
       "  <tbody>\n",
       "    <tr>\n",
       "      <th>0</th>\n",
       "      <td>20</td>\n",
       "      <td>4</td>\n",
       "      <td>560001</td>\n",
       "      <td>1</td>\n",
       "      <td>0</td>\n",
       "      <td>0</td>\n",
       "      <td>0</td>\n",
       "      <td>1</td>\n",
       "      <td>0</td>\n",
       "      <td>1</td>\n",
       "      <td>0</td>\n",
       "      <td>1</td>\n",
       "      <td>0</td>\n",
       "      <td>0</td>\n",
       "      <td>1</td>\n",
       "    </tr>\n",
       "    <tr>\n",
       "      <th>1</th>\n",
       "      <td>24</td>\n",
       "      <td>3</td>\n",
       "      <td>560009</td>\n",
       "      <td>1</td>\n",
       "      <td>0</td>\n",
       "      <td>0</td>\n",
       "      <td>0</td>\n",
       "      <td>1</td>\n",
       "      <td>0</td>\n",
       "      <td>1</td>\n",
       "      <td>1</td>\n",
       "      <td>0</td>\n",
       "      <td>0</td>\n",
       "      <td>0</td>\n",
       "      <td>1</td>\n",
       "    </tr>\n",
       "    <tr>\n",
       "      <th>2</th>\n",
       "      <td>22</td>\n",
       "      <td>3</td>\n",
       "      <td>560017</td>\n",
       "      <td>0</td>\n",
       "      <td>1</td>\n",
       "      <td>0</td>\n",
       "      <td>0</td>\n",
       "      <td>1</td>\n",
       "      <td>0</td>\n",
       "      <td>1</td>\n",
       "      <td>0</td>\n",
       "      <td>1</td>\n",
       "      <td>0</td>\n",
       "      <td>1</td>\n",
       "      <td>0</td>\n",
       "    </tr>\n",
       "    <tr>\n",
       "      <th>3</th>\n",
       "      <td>22</td>\n",
       "      <td>6</td>\n",
       "      <td>560019</td>\n",
       "      <td>1</td>\n",
       "      <td>0</td>\n",
       "      <td>0</td>\n",
       "      <td>0</td>\n",
       "      <td>1</td>\n",
       "      <td>0</td>\n",
       "      <td>1</td>\n",
       "      <td>1</td>\n",
       "      <td>0</td>\n",
       "      <td>0</td>\n",
       "      <td>0</td>\n",
       "      <td>1</td>\n",
       "    </tr>\n",
       "    <tr>\n",
       "      <th>4</th>\n",
       "      <td>22</td>\n",
       "      <td>4</td>\n",
       "      <td>560010</td>\n",
       "      <td>0</td>\n",
       "      <td>1</td>\n",
       "      <td>0</td>\n",
       "      <td>0</td>\n",
       "      <td>1</td>\n",
       "      <td>0</td>\n",
       "      <td>1</td>\n",
       "      <td>0</td>\n",
       "      <td>1</td>\n",
       "      <td>0</td>\n",
       "      <td>0</td>\n",
       "      <td>1</td>\n",
       "    </tr>\n",
       "  </tbody>\n",
       "</table>\n",
       "</div>"
      ],
      "text/plain": [
       "   Age  Family size  Pin code  Gender_Female  Gender_Male  \\\n",
       "0   20            4    560001              1            0   \n",
       "1   24            3    560009              1            0   \n",
       "2   22            3    560017              0            1   \n",
       "3   22            6    560019              1            0   \n",
       "4   22            4    560010              0            1   \n",
       "\n",
       "   Marital Status_Married  Marital Status_Prefer not to say  \\\n",
       "0                       0                                 0   \n",
       "1                       0                                 0   \n",
       "2                       0                                 0   \n",
       "3                       0                                 0   \n",
       "4                       0                                 0   \n",
       "\n",
       "   Marital Status_Single  Occupation_Employee  Occupation_Student  \\\n",
       "0                      1                    0                   1   \n",
       "1                      1                    0                   1   \n",
       "2                      1                    0                   1   \n",
       "3                      1                    0                   1   \n",
       "4                      1                    0                   1   \n",
       "\n",
       "   Educational Qualifications_Graduate  \\\n",
       "0                                    0   \n",
       "1                                    1   \n",
       "2                                    0   \n",
       "3                                    1   \n",
       "4                                    0   \n",
       "\n",
       "   Educational Qualifications_Post Graduate  \\\n",
       "0                                         1   \n",
       "1                                         0   \n",
       "2                                         1   \n",
       "3                                         0   \n",
       "4                                         1   \n",
       "\n",
       "   Educational Qualifications_Uneducated  Feedback_Negative   \\\n",
       "0                                      0                   0   \n",
       "1                                      0                   0   \n",
       "2                                      0                   1   \n",
       "3                                      0                   0   \n",
       "4                                      0                   0   \n",
       "\n",
       "   Feedback_Positive  \n",
       "0                  1  \n",
       "1                  1  \n",
       "2                  0  \n",
       "3                  1  \n",
       "4                  1  "
      ]
     },
     "execution_count": 11,
     "metadata": {},
     "output_type": "execute_result"
    }
   ],
   "source": [
    "df.head()"
   ]
  },
  {
   "cell_type": "code",
   "execution_count": 12,
   "id": "5b6161f3",
   "metadata": {},
   "outputs": [
    {
     "data": {
      "text/html": [
       "<div>\n",
       "<style scoped>\n",
       "    .dataframe tbody tr th:only-of-type {\n",
       "        vertical-align: middle;\n",
       "    }\n",
       "\n",
       "    .dataframe tbody tr th {\n",
       "        vertical-align: top;\n",
       "    }\n",
       "\n",
       "    .dataframe thead th {\n",
       "        text-align: right;\n",
       "    }\n",
       "</style>\n",
       "<table border=\"1\" class=\"dataframe\">\n",
       "  <thead>\n",
       "    <tr style=\"text-align: right;\">\n",
       "      <th></th>\n",
       "      <th>Age</th>\n",
       "      <th>Family size</th>\n",
       "      <th>Pin code</th>\n",
       "      <th>Gender_Female</th>\n",
       "      <th>Gender_Male</th>\n",
       "      <th>Marital Status_Married</th>\n",
       "      <th>Marital Status_Prefer not to say</th>\n",
       "      <th>Marital Status_Single</th>\n",
       "      <th>Occupation_Employee</th>\n",
       "      <th>Occupation_Student</th>\n",
       "      <th>Educational Qualifications_Graduate</th>\n",
       "      <th>Educational Qualifications_Post Graduate</th>\n",
       "      <th>Educational Qualifications_Uneducated</th>\n",
       "      <th>Feedback_Negative</th>\n",
       "      <th>Feedback_Positive</th>\n",
       "    </tr>\n",
       "  </thead>\n",
       "  <tbody>\n",
       "    <tr>\n",
       "      <th>Age</th>\n",
       "      <td>1.000000</td>\n",
       "      <td>0.169982</td>\n",
       "      <td>0.137294</td>\n",
       "      <td>-0.062038</td>\n",
       "      <td>0.062038</td>\n",
       "      <td>0.636797</td>\n",
       "      <td>0.127512</td>\n",
       "      <td>-0.665257</td>\n",
       "      <td>0.567099</td>\n",
       "      <td>-0.567099</td>\n",
       "      <td>0.078331</td>\n",
       "      <td>-0.100419</td>\n",
       "      <td>0.154321</td>\n",
       "      <td>0.198170</td>\n",
       "      <td>-0.198170</td>\n",
       "    </tr>\n",
       "    <tr>\n",
       "      <th>Family size</th>\n",
       "      <td>0.169982</td>\n",
       "      <td>1.000000</td>\n",
       "      <td>-0.009402</td>\n",
       "      <td>0.082488</td>\n",
       "      <td>-0.082488</td>\n",
       "      <td>0.224432</td>\n",
       "      <td>-0.092363</td>\n",
       "      <td>-0.183034</td>\n",
       "      <td>0.048757</td>\n",
       "      <td>-0.048757</td>\n",
       "      <td>0.049316</td>\n",
       "      <td>-0.050979</td>\n",
       "      <td>0.011687</td>\n",
       "      <td>0.010148</td>\n",
       "      <td>-0.010148</td>\n",
       "    </tr>\n",
       "    <tr>\n",
       "      <th>Pin code</th>\n",
       "      <td>0.137294</td>\n",
       "      <td>-0.009402</td>\n",
       "      <td>1.000000</td>\n",
       "      <td>-0.035685</td>\n",
       "      <td>0.035685</td>\n",
       "      <td>0.094210</td>\n",
       "      <td>0.025464</td>\n",
       "      <td>-0.100893</td>\n",
       "      <td>0.173465</td>\n",
       "      <td>-0.173465</td>\n",
       "      <td>0.088063</td>\n",
       "      <td>-0.080938</td>\n",
       "      <td>-0.049611</td>\n",
       "      <td>0.003603</td>\n",
       "      <td>-0.003603</td>\n",
       "    </tr>\n",
       "    <tr>\n",
       "      <th>Gender_Female</th>\n",
       "      <td>-0.062038</td>\n",
       "      <td>0.082488</td>\n",
       "      <td>-0.035685</td>\n",
       "      <td>1.000000</td>\n",
       "      <td>-1.000000</td>\n",
       "      <td>0.032472</td>\n",
       "      <td>-0.004033</td>\n",
       "      <td>-0.029977</td>\n",
       "      <td>-0.090050</td>\n",
       "      <td>0.090050</td>\n",
       "      <td>-0.092346</td>\n",
       "      <td>0.090822</td>\n",
       "      <td>0.010499</td>\n",
       "      <td>-0.045486</td>\n",
       "      <td>0.045486</td>\n",
       "    </tr>\n",
       "    <tr>\n",
       "      <th>Gender_Male</th>\n",
       "      <td>0.062038</td>\n",
       "      <td>-0.082488</td>\n",
       "      <td>0.035685</td>\n",
       "      <td>-1.000000</td>\n",
       "      <td>1.000000</td>\n",
       "      <td>-0.032472</td>\n",
       "      <td>0.004033</td>\n",
       "      <td>0.029977</td>\n",
       "      <td>0.090050</td>\n",
       "      <td>-0.090050</td>\n",
       "      <td>0.092346</td>\n",
       "      <td>-0.090822</td>\n",
       "      <td>-0.010499</td>\n",
       "      <td>0.045486</td>\n",
       "      <td>-0.045486</td>\n",
       "    </tr>\n",
       "    <tr>\n",
       "      <th>Marital Status_Married</th>\n",
       "      <td>0.636797</td>\n",
       "      <td>0.224432</td>\n",
       "      <td>0.094210</td>\n",
       "      <td>0.032472</td>\n",
       "      <td>-0.032472</td>\n",
       "      <td>1.000000</td>\n",
       "      <td>-0.110951</td>\n",
       "      <td>-0.928132</td>\n",
       "      <td>0.533917</td>\n",
       "      <td>-0.533917</td>\n",
       "      <td>0.177081</td>\n",
       "      <td>-0.193645</td>\n",
       "      <td>0.115901</td>\n",
       "      <td>0.167123</td>\n",
       "      <td>-0.167123</td>\n",
       "    </tr>\n",
       "    <tr>\n",
       "      <th>Marital Status_Prefer not to say</th>\n",
       "      <td>0.127512</td>\n",
       "      <td>-0.092363</td>\n",
       "      <td>0.025464</td>\n",
       "      <td>-0.004033</td>\n",
       "      <td>0.004033</td>\n",
       "      <td>-0.110951</td>\n",
       "      <td>1.000000</td>\n",
       "      <td>-0.266977</td>\n",
       "      <td>0.170230</td>\n",
       "      <td>-0.170230</td>\n",
       "      <td>-0.025179</td>\n",
       "      <td>0.027015</td>\n",
       "      <td>-0.012859</td>\n",
       "      <td>0.107966</td>\n",
       "      <td>-0.107966</td>\n",
       "    </tr>\n",
       "    <tr>\n",
       "      <th>Marital Status_Single</th>\n",
       "      <td>-0.665257</td>\n",
       "      <td>-0.183034</td>\n",
       "      <td>-0.100893</td>\n",
       "      <td>-0.029977</td>\n",
       "      <td>0.029977</td>\n",
       "      <td>-0.928132</td>\n",
       "      <td>-0.266977</td>\n",
       "      <td>1.000000</td>\n",
       "      <td>-0.581496</td>\n",
       "      <td>0.581496</td>\n",
       "      <td>-0.162282</td>\n",
       "      <td>0.177656</td>\n",
       "      <td>-0.107572</td>\n",
       "      <td>-0.202498</td>\n",
       "      <td>0.202498</td>\n",
       "    </tr>\n",
       "    <tr>\n",
       "      <th>Occupation_Employee</th>\n",
       "      <td>0.567099</td>\n",
       "      <td>0.048757</td>\n",
       "      <td>0.173465</td>\n",
       "      <td>-0.090050</td>\n",
       "      <td>0.090050</td>\n",
       "      <td>0.533917</td>\n",
       "      <td>0.170230</td>\n",
       "      <td>-0.581496</td>\n",
       "      <td>1.000000</td>\n",
       "      <td>-1.000000</td>\n",
       "      <td>0.209840</td>\n",
       "      <td>-0.210973</td>\n",
       "      <td>0.008216</td>\n",
       "      <td>0.235158</td>\n",
       "      <td>-0.235158</td>\n",
       "    </tr>\n",
       "    <tr>\n",
       "      <th>Occupation_Student</th>\n",
       "      <td>-0.567099</td>\n",
       "      <td>-0.048757</td>\n",
       "      <td>-0.173465</td>\n",
       "      <td>0.090050</td>\n",
       "      <td>-0.090050</td>\n",
       "      <td>-0.533917</td>\n",
       "      <td>-0.170230</td>\n",
       "      <td>0.581496</td>\n",
       "      <td>-1.000000</td>\n",
       "      <td>1.000000</td>\n",
       "      <td>-0.209840</td>\n",
       "      <td>0.210973</td>\n",
       "      <td>-0.008216</td>\n",
       "      <td>-0.235158</td>\n",
       "      <td>0.235158</td>\n",
       "    </tr>\n",
       "    <tr>\n",
       "      <th>Educational Qualifications_Graduate</th>\n",
       "      <td>0.078331</td>\n",
       "      <td>0.049316</td>\n",
       "      <td>0.088063</td>\n",
       "      <td>-0.092346</td>\n",
       "      <td>0.092346</td>\n",
       "      <td>0.177081</td>\n",
       "      <td>-0.025179</td>\n",
       "      <td>-0.162282</td>\n",
       "      <td>0.209840</td>\n",
       "      <td>-0.209840</td>\n",
       "      <td>1.000000</td>\n",
       "      <td>-0.989739</td>\n",
       "      <td>-0.070150</td>\n",
       "      <td>0.138891</td>\n",
       "      <td>-0.138891</td>\n",
       "    </tr>\n",
       "    <tr>\n",
       "      <th>Educational Qualifications_Post Graduate</th>\n",
       "      <td>-0.100419</td>\n",
       "      <td>-0.050979</td>\n",
       "      <td>-0.080938</td>\n",
       "      <td>0.090822</td>\n",
       "      <td>-0.090822</td>\n",
       "      <td>-0.193645</td>\n",
       "      <td>0.027015</td>\n",
       "      <td>0.177656</td>\n",
       "      <td>-0.210973</td>\n",
       "      <td>0.210973</td>\n",
       "      <td>-0.989739</td>\n",
       "      <td>1.000000</td>\n",
       "      <td>-0.073103</td>\n",
       "      <td>-0.147314</td>\n",
       "      <td>0.147314</td>\n",
       "    </tr>\n",
       "    <tr>\n",
       "      <th>Educational Qualifications_Uneducated</th>\n",
       "      <td>0.154321</td>\n",
       "      <td>0.011687</td>\n",
       "      <td>-0.049611</td>\n",
       "      <td>0.010499</td>\n",
       "      <td>-0.010499</td>\n",
       "      <td>0.115901</td>\n",
       "      <td>-0.012859</td>\n",
       "      <td>-0.107572</td>\n",
       "      <td>0.008216</td>\n",
       "      <td>-0.008216</td>\n",
       "      <td>-0.070150</td>\n",
       "      <td>-0.073103</td>\n",
       "      <td>1.000000</td>\n",
       "      <td>0.059016</td>\n",
       "      <td>-0.059016</td>\n",
       "    </tr>\n",
       "    <tr>\n",
       "      <th>Feedback_Negative</th>\n",
       "      <td>0.198170</td>\n",
       "      <td>0.010148</td>\n",
       "      <td>0.003603</td>\n",
       "      <td>-0.045486</td>\n",
       "      <td>0.045486</td>\n",
       "      <td>0.167123</td>\n",
       "      <td>0.107966</td>\n",
       "      <td>-0.202498</td>\n",
       "      <td>0.235158</td>\n",
       "      <td>-0.235158</td>\n",
       "      <td>0.138891</td>\n",
       "      <td>-0.147314</td>\n",
       "      <td>0.059016</td>\n",
       "      <td>1.000000</td>\n",
       "      <td>-1.000000</td>\n",
       "    </tr>\n",
       "    <tr>\n",
       "      <th>Feedback_Positive</th>\n",
       "      <td>-0.198170</td>\n",
       "      <td>-0.010148</td>\n",
       "      <td>-0.003603</td>\n",
       "      <td>0.045486</td>\n",
       "      <td>-0.045486</td>\n",
       "      <td>-0.167123</td>\n",
       "      <td>-0.107966</td>\n",
       "      <td>0.202498</td>\n",
       "      <td>-0.235158</td>\n",
       "      <td>0.235158</td>\n",
       "      <td>-0.138891</td>\n",
       "      <td>0.147314</td>\n",
       "      <td>-0.059016</td>\n",
       "      <td>-1.000000</td>\n",
       "      <td>1.000000</td>\n",
       "    </tr>\n",
       "  </tbody>\n",
       "</table>\n",
       "</div>"
      ],
      "text/plain": [
       "                                               Age  Family size  Pin code  \\\n",
       "Age                                       1.000000     0.169982  0.137294   \n",
       "Family size                               0.169982     1.000000 -0.009402   \n",
       "Pin code                                  0.137294    -0.009402  1.000000   \n",
       "Gender_Female                            -0.062038     0.082488 -0.035685   \n",
       "Gender_Male                               0.062038    -0.082488  0.035685   \n",
       "Marital Status_Married                    0.636797     0.224432  0.094210   \n",
       "Marital Status_Prefer not to say          0.127512    -0.092363  0.025464   \n",
       "Marital Status_Single                    -0.665257    -0.183034 -0.100893   \n",
       "Occupation_Employee                       0.567099     0.048757  0.173465   \n",
       "Occupation_Student                       -0.567099    -0.048757 -0.173465   \n",
       "Educational Qualifications_Graduate       0.078331     0.049316  0.088063   \n",
       "Educational Qualifications_Post Graduate -0.100419    -0.050979 -0.080938   \n",
       "Educational Qualifications_Uneducated     0.154321     0.011687 -0.049611   \n",
       "Feedback_Negative                         0.198170     0.010148  0.003603   \n",
       "Feedback_Positive                        -0.198170    -0.010148 -0.003603   \n",
       "\n",
       "                                          Gender_Female  Gender_Male  \\\n",
       "Age                                           -0.062038     0.062038   \n",
       "Family size                                    0.082488    -0.082488   \n",
       "Pin code                                      -0.035685     0.035685   \n",
       "Gender_Female                                  1.000000    -1.000000   \n",
       "Gender_Male                                   -1.000000     1.000000   \n",
       "Marital Status_Married                         0.032472    -0.032472   \n",
       "Marital Status_Prefer not to say              -0.004033     0.004033   \n",
       "Marital Status_Single                         -0.029977     0.029977   \n",
       "Occupation_Employee                           -0.090050     0.090050   \n",
       "Occupation_Student                             0.090050    -0.090050   \n",
       "Educational Qualifications_Graduate           -0.092346     0.092346   \n",
       "Educational Qualifications_Post Graduate       0.090822    -0.090822   \n",
       "Educational Qualifications_Uneducated          0.010499    -0.010499   \n",
       "Feedback_Negative                             -0.045486     0.045486   \n",
       "Feedback_Positive                              0.045486    -0.045486   \n",
       "\n",
       "                                          Marital Status_Married  \\\n",
       "Age                                                     0.636797   \n",
       "Family size                                             0.224432   \n",
       "Pin code                                                0.094210   \n",
       "Gender_Female                                           0.032472   \n",
       "Gender_Male                                            -0.032472   \n",
       "Marital Status_Married                                  1.000000   \n",
       "Marital Status_Prefer not to say                       -0.110951   \n",
       "Marital Status_Single                                  -0.928132   \n",
       "Occupation_Employee                                     0.533917   \n",
       "Occupation_Student                                     -0.533917   \n",
       "Educational Qualifications_Graduate                     0.177081   \n",
       "Educational Qualifications_Post Graduate               -0.193645   \n",
       "Educational Qualifications_Uneducated                   0.115901   \n",
       "Feedback_Negative                                       0.167123   \n",
       "Feedback_Positive                                      -0.167123   \n",
       "\n",
       "                                          Marital Status_Prefer not to say  \\\n",
       "Age                                                               0.127512   \n",
       "Family size                                                      -0.092363   \n",
       "Pin code                                                          0.025464   \n",
       "Gender_Female                                                    -0.004033   \n",
       "Gender_Male                                                       0.004033   \n",
       "Marital Status_Married                                           -0.110951   \n",
       "Marital Status_Prefer not to say                                  1.000000   \n",
       "Marital Status_Single                                            -0.266977   \n",
       "Occupation_Employee                                               0.170230   \n",
       "Occupation_Student                                               -0.170230   \n",
       "Educational Qualifications_Graduate                              -0.025179   \n",
       "Educational Qualifications_Post Graduate                          0.027015   \n",
       "Educational Qualifications_Uneducated                            -0.012859   \n",
       "Feedback_Negative                                                 0.107966   \n",
       "Feedback_Positive                                                -0.107966   \n",
       "\n",
       "                                          Marital Status_Single  \\\n",
       "Age                                                   -0.665257   \n",
       "Family size                                           -0.183034   \n",
       "Pin code                                              -0.100893   \n",
       "Gender_Female                                         -0.029977   \n",
       "Gender_Male                                            0.029977   \n",
       "Marital Status_Married                                -0.928132   \n",
       "Marital Status_Prefer not to say                      -0.266977   \n",
       "Marital Status_Single                                  1.000000   \n",
       "Occupation_Employee                                   -0.581496   \n",
       "Occupation_Student                                     0.581496   \n",
       "Educational Qualifications_Graduate                   -0.162282   \n",
       "Educational Qualifications_Post Graduate               0.177656   \n",
       "Educational Qualifications_Uneducated                 -0.107572   \n",
       "Feedback_Negative                                     -0.202498   \n",
       "Feedback_Positive                                      0.202498   \n",
       "\n",
       "                                          Occupation_Employee  \\\n",
       "Age                                                  0.567099   \n",
       "Family size                                          0.048757   \n",
       "Pin code                                             0.173465   \n",
       "Gender_Female                                       -0.090050   \n",
       "Gender_Male                                          0.090050   \n",
       "Marital Status_Married                               0.533917   \n",
       "Marital Status_Prefer not to say                     0.170230   \n",
       "Marital Status_Single                               -0.581496   \n",
       "Occupation_Employee                                  1.000000   \n",
       "Occupation_Student                                  -1.000000   \n",
       "Educational Qualifications_Graduate                  0.209840   \n",
       "Educational Qualifications_Post Graduate            -0.210973   \n",
       "Educational Qualifications_Uneducated                0.008216   \n",
       "Feedback_Negative                                    0.235158   \n",
       "Feedback_Positive                                   -0.235158   \n",
       "\n",
       "                                          Occupation_Student  \\\n",
       "Age                                                -0.567099   \n",
       "Family size                                        -0.048757   \n",
       "Pin code                                           -0.173465   \n",
       "Gender_Female                                       0.090050   \n",
       "Gender_Male                                        -0.090050   \n",
       "Marital Status_Married                             -0.533917   \n",
       "Marital Status_Prefer not to say                   -0.170230   \n",
       "Marital Status_Single                               0.581496   \n",
       "Occupation_Employee                                -1.000000   \n",
       "Occupation_Student                                  1.000000   \n",
       "Educational Qualifications_Graduate                -0.209840   \n",
       "Educational Qualifications_Post Graduate            0.210973   \n",
       "Educational Qualifications_Uneducated              -0.008216   \n",
       "Feedback_Negative                                  -0.235158   \n",
       "Feedback_Positive                                   0.235158   \n",
       "\n",
       "                                          Educational Qualifications_Graduate  \\\n",
       "Age                                                                  0.078331   \n",
       "Family size                                                          0.049316   \n",
       "Pin code                                                             0.088063   \n",
       "Gender_Female                                                       -0.092346   \n",
       "Gender_Male                                                          0.092346   \n",
       "Marital Status_Married                                               0.177081   \n",
       "Marital Status_Prefer not to say                                    -0.025179   \n",
       "Marital Status_Single                                               -0.162282   \n",
       "Occupation_Employee                                                  0.209840   \n",
       "Occupation_Student                                                  -0.209840   \n",
       "Educational Qualifications_Graduate                                  1.000000   \n",
       "Educational Qualifications_Post Graduate                            -0.989739   \n",
       "Educational Qualifications_Uneducated                               -0.070150   \n",
       "Feedback_Negative                                                    0.138891   \n",
       "Feedback_Positive                                                   -0.138891   \n",
       "\n",
       "                                          Educational Qualifications_Post Graduate  \\\n",
       "Age                                                                      -0.100419   \n",
       "Family size                                                              -0.050979   \n",
       "Pin code                                                                 -0.080938   \n",
       "Gender_Female                                                             0.090822   \n",
       "Gender_Male                                                              -0.090822   \n",
       "Marital Status_Married                                                   -0.193645   \n",
       "Marital Status_Prefer not to say                                          0.027015   \n",
       "Marital Status_Single                                                     0.177656   \n",
       "Occupation_Employee                                                      -0.210973   \n",
       "Occupation_Student                                                        0.210973   \n",
       "Educational Qualifications_Graduate                                      -0.989739   \n",
       "Educational Qualifications_Post Graduate                                  1.000000   \n",
       "Educational Qualifications_Uneducated                                    -0.073103   \n",
       "Feedback_Negative                                                        -0.147314   \n",
       "Feedback_Positive                                                         0.147314   \n",
       "\n",
       "                                          Educational Qualifications_Uneducated  \\\n",
       "Age                                                                    0.154321   \n",
       "Family size                                                            0.011687   \n",
       "Pin code                                                              -0.049611   \n",
       "Gender_Female                                                          0.010499   \n",
       "Gender_Male                                                           -0.010499   \n",
       "Marital Status_Married                                                 0.115901   \n",
       "Marital Status_Prefer not to say                                      -0.012859   \n",
       "Marital Status_Single                                                 -0.107572   \n",
       "Occupation_Employee                                                    0.008216   \n",
       "Occupation_Student                                                    -0.008216   \n",
       "Educational Qualifications_Graduate                                   -0.070150   \n",
       "Educational Qualifications_Post Graduate                              -0.073103   \n",
       "Educational Qualifications_Uneducated                                  1.000000   \n",
       "Feedback_Negative                                                      0.059016   \n",
       "Feedback_Positive                                                     -0.059016   \n",
       "\n",
       "                                          Feedback_Negative   \\\n",
       "Age                                                 0.198170   \n",
       "Family size                                         0.010148   \n",
       "Pin code                                            0.003603   \n",
       "Gender_Female                                      -0.045486   \n",
       "Gender_Male                                         0.045486   \n",
       "Marital Status_Married                              0.167123   \n",
       "Marital Status_Prefer not to say                    0.107966   \n",
       "Marital Status_Single                              -0.202498   \n",
       "Occupation_Employee                                 0.235158   \n",
       "Occupation_Student                                 -0.235158   \n",
       "Educational Qualifications_Graduate                 0.138891   \n",
       "Educational Qualifications_Post Graduate           -0.147314   \n",
       "Educational Qualifications_Uneducated               0.059016   \n",
       "Feedback_Negative                                   1.000000   \n",
       "Feedback_Positive                                  -1.000000   \n",
       "\n",
       "                                          Feedback_Positive  \n",
       "Age                                               -0.198170  \n",
       "Family size                                       -0.010148  \n",
       "Pin code                                          -0.003603  \n",
       "Gender_Female                                      0.045486  \n",
       "Gender_Male                                       -0.045486  \n",
       "Marital Status_Married                            -0.167123  \n",
       "Marital Status_Prefer not to say                  -0.107966  \n",
       "Marital Status_Single                              0.202498  \n",
       "Occupation_Employee                               -0.235158  \n",
       "Occupation_Student                                 0.235158  \n",
       "Educational Qualifications_Graduate               -0.138891  \n",
       "Educational Qualifications_Post Graduate           0.147314  \n",
       "Educational Qualifications_Uneducated             -0.059016  \n",
       "Feedback_Negative                                 -1.000000  \n",
       "Feedback_Positive                                  1.000000  "
      ]
     },
     "execution_count": 12,
     "metadata": {},
     "output_type": "execute_result"
    }
   ],
   "source": [
    "df.corr()"
   ]
  },
  {
   "cell_type": "code",
   "execution_count": null,
   "id": "b948820a",
   "metadata": {},
   "outputs": [],
   "source": [
    "del df[\"Feedback_Negative\"]"
   ]
  },
  {
   "cell_type": "code",
   "execution_count": null,
   "id": "b6f66388",
   "metadata": {},
   "outputs": [],
   "source": [
    "del df['Gender_Female']"
   ]
  },
  {
   "cell_type": "code",
   "execution_count": 20,
   "id": "23921ad2",
   "metadata": {},
   "outputs": [],
   "source": [
    "del df['Educational Qualifications_Graduate']"
   ]
  },
  {
   "cell_type": "code",
   "execution_count": 22,
   "id": "17becd8c",
   "metadata": {},
   "outputs": [
    {
     "data": {
      "text/html": [
       "<div>\n",
       "<style scoped>\n",
       "    .dataframe tbody tr th:only-of-type {\n",
       "        vertical-align: middle;\n",
       "    }\n",
       "\n",
       "    .dataframe tbody tr th {\n",
       "        vertical-align: top;\n",
       "    }\n",
       "\n",
       "    .dataframe thead th {\n",
       "        text-align: right;\n",
       "    }\n",
       "</style>\n",
       "<table border=\"1\" class=\"dataframe\">\n",
       "  <thead>\n",
       "    <tr style=\"text-align: right;\">\n",
       "      <th></th>\n",
       "      <th>Age</th>\n",
       "      <th>Family size</th>\n",
       "      <th>Pin code</th>\n",
       "      <th>Gender_Male</th>\n",
       "      <th>Marital Status_Married</th>\n",
       "      <th>Marital Status_Prefer not to say</th>\n",
       "      <th>Marital Status_Single</th>\n",
       "      <th>Occupation_Employee</th>\n",
       "      <th>Occupation_Student</th>\n",
       "      <th>Educational Qualifications_Post Graduate</th>\n",
       "      <th>Educational Qualifications_Uneducated</th>\n",
       "      <th>Feedback_Negative</th>\n",
       "      <th>Feedback_Positive</th>\n",
       "    </tr>\n",
       "  </thead>\n",
       "  <tbody>\n",
       "    <tr>\n",
       "      <th>Age</th>\n",
       "      <td>1.000000</td>\n",
       "      <td>0.169982</td>\n",
       "      <td>0.137294</td>\n",
       "      <td>0.062038</td>\n",
       "      <td>0.636797</td>\n",
       "      <td>0.127512</td>\n",
       "      <td>-0.665257</td>\n",
       "      <td>0.567099</td>\n",
       "      <td>-0.567099</td>\n",
       "      <td>-0.100419</td>\n",
       "      <td>0.154321</td>\n",
       "      <td>0.198170</td>\n",
       "      <td>-0.198170</td>\n",
       "    </tr>\n",
       "    <tr>\n",
       "      <th>Family size</th>\n",
       "      <td>0.169982</td>\n",
       "      <td>1.000000</td>\n",
       "      <td>-0.009402</td>\n",
       "      <td>-0.082488</td>\n",
       "      <td>0.224432</td>\n",
       "      <td>-0.092363</td>\n",
       "      <td>-0.183034</td>\n",
       "      <td>0.048757</td>\n",
       "      <td>-0.048757</td>\n",
       "      <td>-0.050979</td>\n",
       "      <td>0.011687</td>\n",
       "      <td>0.010148</td>\n",
       "      <td>-0.010148</td>\n",
       "    </tr>\n",
       "    <tr>\n",
       "      <th>Pin code</th>\n",
       "      <td>0.137294</td>\n",
       "      <td>-0.009402</td>\n",
       "      <td>1.000000</td>\n",
       "      <td>0.035685</td>\n",
       "      <td>0.094210</td>\n",
       "      <td>0.025464</td>\n",
       "      <td>-0.100893</td>\n",
       "      <td>0.173465</td>\n",
       "      <td>-0.173465</td>\n",
       "      <td>-0.080938</td>\n",
       "      <td>-0.049611</td>\n",
       "      <td>0.003603</td>\n",
       "      <td>-0.003603</td>\n",
       "    </tr>\n",
       "    <tr>\n",
       "      <th>Gender_Male</th>\n",
       "      <td>0.062038</td>\n",
       "      <td>-0.082488</td>\n",
       "      <td>0.035685</td>\n",
       "      <td>1.000000</td>\n",
       "      <td>-0.032472</td>\n",
       "      <td>0.004033</td>\n",
       "      <td>0.029977</td>\n",
       "      <td>0.090050</td>\n",
       "      <td>-0.090050</td>\n",
       "      <td>-0.090822</td>\n",
       "      <td>-0.010499</td>\n",
       "      <td>0.045486</td>\n",
       "      <td>-0.045486</td>\n",
       "    </tr>\n",
       "    <tr>\n",
       "      <th>Marital Status_Married</th>\n",
       "      <td>0.636797</td>\n",
       "      <td>0.224432</td>\n",
       "      <td>0.094210</td>\n",
       "      <td>-0.032472</td>\n",
       "      <td>1.000000</td>\n",
       "      <td>-0.110951</td>\n",
       "      <td>-0.928132</td>\n",
       "      <td>0.533917</td>\n",
       "      <td>-0.533917</td>\n",
       "      <td>-0.193645</td>\n",
       "      <td>0.115901</td>\n",
       "      <td>0.167123</td>\n",
       "      <td>-0.167123</td>\n",
       "    </tr>\n",
       "    <tr>\n",
       "      <th>Marital Status_Prefer not to say</th>\n",
       "      <td>0.127512</td>\n",
       "      <td>-0.092363</td>\n",
       "      <td>0.025464</td>\n",
       "      <td>0.004033</td>\n",
       "      <td>-0.110951</td>\n",
       "      <td>1.000000</td>\n",
       "      <td>-0.266977</td>\n",
       "      <td>0.170230</td>\n",
       "      <td>-0.170230</td>\n",
       "      <td>0.027015</td>\n",
       "      <td>-0.012859</td>\n",
       "      <td>0.107966</td>\n",
       "      <td>-0.107966</td>\n",
       "    </tr>\n",
       "    <tr>\n",
       "      <th>Marital Status_Single</th>\n",
       "      <td>-0.665257</td>\n",
       "      <td>-0.183034</td>\n",
       "      <td>-0.100893</td>\n",
       "      <td>0.029977</td>\n",
       "      <td>-0.928132</td>\n",
       "      <td>-0.266977</td>\n",
       "      <td>1.000000</td>\n",
       "      <td>-0.581496</td>\n",
       "      <td>0.581496</td>\n",
       "      <td>0.177656</td>\n",
       "      <td>-0.107572</td>\n",
       "      <td>-0.202498</td>\n",
       "      <td>0.202498</td>\n",
       "    </tr>\n",
       "    <tr>\n",
       "      <th>Occupation_Employee</th>\n",
       "      <td>0.567099</td>\n",
       "      <td>0.048757</td>\n",
       "      <td>0.173465</td>\n",
       "      <td>0.090050</td>\n",
       "      <td>0.533917</td>\n",
       "      <td>0.170230</td>\n",
       "      <td>-0.581496</td>\n",
       "      <td>1.000000</td>\n",
       "      <td>-1.000000</td>\n",
       "      <td>-0.210973</td>\n",
       "      <td>0.008216</td>\n",
       "      <td>0.235158</td>\n",
       "      <td>-0.235158</td>\n",
       "    </tr>\n",
       "    <tr>\n",
       "      <th>Occupation_Student</th>\n",
       "      <td>-0.567099</td>\n",
       "      <td>-0.048757</td>\n",
       "      <td>-0.173465</td>\n",
       "      <td>-0.090050</td>\n",
       "      <td>-0.533917</td>\n",
       "      <td>-0.170230</td>\n",
       "      <td>0.581496</td>\n",
       "      <td>-1.000000</td>\n",
       "      <td>1.000000</td>\n",
       "      <td>0.210973</td>\n",
       "      <td>-0.008216</td>\n",
       "      <td>-0.235158</td>\n",
       "      <td>0.235158</td>\n",
       "    </tr>\n",
       "    <tr>\n",
       "      <th>Educational Qualifications_Post Graduate</th>\n",
       "      <td>-0.100419</td>\n",
       "      <td>-0.050979</td>\n",
       "      <td>-0.080938</td>\n",
       "      <td>-0.090822</td>\n",
       "      <td>-0.193645</td>\n",
       "      <td>0.027015</td>\n",
       "      <td>0.177656</td>\n",
       "      <td>-0.210973</td>\n",
       "      <td>0.210973</td>\n",
       "      <td>1.000000</td>\n",
       "      <td>-0.073103</td>\n",
       "      <td>-0.147314</td>\n",
       "      <td>0.147314</td>\n",
       "    </tr>\n",
       "    <tr>\n",
       "      <th>Educational Qualifications_Uneducated</th>\n",
       "      <td>0.154321</td>\n",
       "      <td>0.011687</td>\n",
       "      <td>-0.049611</td>\n",
       "      <td>-0.010499</td>\n",
       "      <td>0.115901</td>\n",
       "      <td>-0.012859</td>\n",
       "      <td>-0.107572</td>\n",
       "      <td>0.008216</td>\n",
       "      <td>-0.008216</td>\n",
       "      <td>-0.073103</td>\n",
       "      <td>1.000000</td>\n",
       "      <td>0.059016</td>\n",
       "      <td>-0.059016</td>\n",
       "    </tr>\n",
       "    <tr>\n",
       "      <th>Feedback_Negative</th>\n",
       "      <td>0.198170</td>\n",
       "      <td>0.010148</td>\n",
       "      <td>0.003603</td>\n",
       "      <td>0.045486</td>\n",
       "      <td>0.167123</td>\n",
       "      <td>0.107966</td>\n",
       "      <td>-0.202498</td>\n",
       "      <td>0.235158</td>\n",
       "      <td>-0.235158</td>\n",
       "      <td>-0.147314</td>\n",
       "      <td>0.059016</td>\n",
       "      <td>1.000000</td>\n",
       "      <td>-1.000000</td>\n",
       "    </tr>\n",
       "    <tr>\n",
       "      <th>Feedback_Positive</th>\n",
       "      <td>-0.198170</td>\n",
       "      <td>-0.010148</td>\n",
       "      <td>-0.003603</td>\n",
       "      <td>-0.045486</td>\n",
       "      <td>-0.167123</td>\n",
       "      <td>-0.107966</td>\n",
       "      <td>0.202498</td>\n",
       "      <td>-0.235158</td>\n",
       "      <td>0.235158</td>\n",
       "      <td>0.147314</td>\n",
       "      <td>-0.059016</td>\n",
       "      <td>-1.000000</td>\n",
       "      <td>1.000000</td>\n",
       "    </tr>\n",
       "  </tbody>\n",
       "</table>\n",
       "</div>"
      ],
      "text/plain": [
       "                                               Age  Family size  Pin code  \\\n",
       "Age                                       1.000000     0.169982  0.137294   \n",
       "Family size                               0.169982     1.000000 -0.009402   \n",
       "Pin code                                  0.137294    -0.009402  1.000000   \n",
       "Gender_Male                               0.062038    -0.082488  0.035685   \n",
       "Marital Status_Married                    0.636797     0.224432  0.094210   \n",
       "Marital Status_Prefer not to say          0.127512    -0.092363  0.025464   \n",
       "Marital Status_Single                    -0.665257    -0.183034 -0.100893   \n",
       "Occupation_Employee                       0.567099     0.048757  0.173465   \n",
       "Occupation_Student                       -0.567099    -0.048757 -0.173465   \n",
       "Educational Qualifications_Post Graduate -0.100419    -0.050979 -0.080938   \n",
       "Educational Qualifications_Uneducated     0.154321     0.011687 -0.049611   \n",
       "Feedback_Negative                         0.198170     0.010148  0.003603   \n",
       "Feedback_Positive                        -0.198170    -0.010148 -0.003603   \n",
       "\n",
       "                                          Gender_Male  Marital Status_Married  \\\n",
       "Age                                          0.062038                0.636797   \n",
       "Family size                                 -0.082488                0.224432   \n",
       "Pin code                                     0.035685                0.094210   \n",
       "Gender_Male                                  1.000000               -0.032472   \n",
       "Marital Status_Married                      -0.032472                1.000000   \n",
       "Marital Status_Prefer not to say             0.004033               -0.110951   \n",
       "Marital Status_Single                        0.029977               -0.928132   \n",
       "Occupation_Employee                          0.090050                0.533917   \n",
       "Occupation_Student                          -0.090050               -0.533917   \n",
       "Educational Qualifications_Post Graduate    -0.090822               -0.193645   \n",
       "Educational Qualifications_Uneducated       -0.010499                0.115901   \n",
       "Feedback_Negative                            0.045486                0.167123   \n",
       "Feedback_Positive                           -0.045486               -0.167123   \n",
       "\n",
       "                                          Marital Status_Prefer not to say  \\\n",
       "Age                                                               0.127512   \n",
       "Family size                                                      -0.092363   \n",
       "Pin code                                                          0.025464   \n",
       "Gender_Male                                                       0.004033   \n",
       "Marital Status_Married                                           -0.110951   \n",
       "Marital Status_Prefer not to say                                  1.000000   \n",
       "Marital Status_Single                                            -0.266977   \n",
       "Occupation_Employee                                               0.170230   \n",
       "Occupation_Student                                               -0.170230   \n",
       "Educational Qualifications_Post Graduate                          0.027015   \n",
       "Educational Qualifications_Uneducated                            -0.012859   \n",
       "Feedback_Negative                                                 0.107966   \n",
       "Feedback_Positive                                                -0.107966   \n",
       "\n",
       "                                          Marital Status_Single  \\\n",
       "Age                                                   -0.665257   \n",
       "Family size                                           -0.183034   \n",
       "Pin code                                              -0.100893   \n",
       "Gender_Male                                            0.029977   \n",
       "Marital Status_Married                                -0.928132   \n",
       "Marital Status_Prefer not to say                      -0.266977   \n",
       "Marital Status_Single                                  1.000000   \n",
       "Occupation_Employee                                   -0.581496   \n",
       "Occupation_Student                                     0.581496   \n",
       "Educational Qualifications_Post Graduate               0.177656   \n",
       "Educational Qualifications_Uneducated                 -0.107572   \n",
       "Feedback_Negative                                     -0.202498   \n",
       "Feedback_Positive                                      0.202498   \n",
       "\n",
       "                                          Occupation_Employee  \\\n",
       "Age                                                  0.567099   \n",
       "Family size                                          0.048757   \n",
       "Pin code                                             0.173465   \n",
       "Gender_Male                                          0.090050   \n",
       "Marital Status_Married                               0.533917   \n",
       "Marital Status_Prefer not to say                     0.170230   \n",
       "Marital Status_Single                               -0.581496   \n",
       "Occupation_Employee                                  1.000000   \n",
       "Occupation_Student                                  -1.000000   \n",
       "Educational Qualifications_Post Graduate            -0.210973   \n",
       "Educational Qualifications_Uneducated                0.008216   \n",
       "Feedback_Negative                                    0.235158   \n",
       "Feedback_Positive                                   -0.235158   \n",
       "\n",
       "                                          Occupation_Student  \\\n",
       "Age                                                -0.567099   \n",
       "Family size                                        -0.048757   \n",
       "Pin code                                           -0.173465   \n",
       "Gender_Male                                        -0.090050   \n",
       "Marital Status_Married                             -0.533917   \n",
       "Marital Status_Prefer not to say                   -0.170230   \n",
       "Marital Status_Single                               0.581496   \n",
       "Occupation_Employee                                -1.000000   \n",
       "Occupation_Student                                  1.000000   \n",
       "Educational Qualifications_Post Graduate            0.210973   \n",
       "Educational Qualifications_Uneducated              -0.008216   \n",
       "Feedback_Negative                                  -0.235158   \n",
       "Feedback_Positive                                   0.235158   \n",
       "\n",
       "                                          Educational Qualifications_Post Graduate  \\\n",
       "Age                                                                      -0.100419   \n",
       "Family size                                                              -0.050979   \n",
       "Pin code                                                                 -0.080938   \n",
       "Gender_Male                                                              -0.090822   \n",
       "Marital Status_Married                                                   -0.193645   \n",
       "Marital Status_Prefer not to say                                          0.027015   \n",
       "Marital Status_Single                                                     0.177656   \n",
       "Occupation_Employee                                                      -0.210973   \n",
       "Occupation_Student                                                        0.210973   \n",
       "Educational Qualifications_Post Graduate                                  1.000000   \n",
       "Educational Qualifications_Uneducated                                    -0.073103   \n",
       "Feedback_Negative                                                        -0.147314   \n",
       "Feedback_Positive                                                         0.147314   \n",
       "\n",
       "                                          Educational Qualifications_Uneducated  \\\n",
       "Age                                                                    0.154321   \n",
       "Family size                                                            0.011687   \n",
       "Pin code                                                              -0.049611   \n",
       "Gender_Male                                                           -0.010499   \n",
       "Marital Status_Married                                                 0.115901   \n",
       "Marital Status_Prefer not to say                                      -0.012859   \n",
       "Marital Status_Single                                                 -0.107572   \n",
       "Occupation_Employee                                                    0.008216   \n",
       "Occupation_Student                                                    -0.008216   \n",
       "Educational Qualifications_Post Graduate                              -0.073103   \n",
       "Educational Qualifications_Uneducated                                  1.000000   \n",
       "Feedback_Negative                                                      0.059016   \n",
       "Feedback_Positive                                                     -0.059016   \n",
       "\n",
       "                                          Feedback_Negative   \\\n",
       "Age                                                 0.198170   \n",
       "Family size                                         0.010148   \n",
       "Pin code                                            0.003603   \n",
       "Gender_Male                                         0.045486   \n",
       "Marital Status_Married                              0.167123   \n",
       "Marital Status_Prefer not to say                    0.107966   \n",
       "Marital Status_Single                              -0.202498   \n",
       "Occupation_Employee                                 0.235158   \n",
       "Occupation_Student                                 -0.235158   \n",
       "Educational Qualifications_Post Graduate           -0.147314   \n",
       "Educational Qualifications_Uneducated               0.059016   \n",
       "Feedback_Negative                                   1.000000   \n",
       "Feedback_Positive                                  -1.000000   \n",
       "\n",
       "                                          Feedback_Positive  \n",
       "Age                                               -0.198170  \n",
       "Family size                                       -0.010148  \n",
       "Pin code                                          -0.003603  \n",
       "Gender_Male                                       -0.045486  \n",
       "Marital Status_Married                            -0.167123  \n",
       "Marital Status_Prefer not to say                  -0.107966  \n",
       "Marital Status_Single                              0.202498  \n",
       "Occupation_Employee                               -0.235158  \n",
       "Occupation_Student                                 0.235158  \n",
       "Educational Qualifications_Post Graduate           0.147314  \n",
       "Educational Qualifications_Uneducated             -0.059016  \n",
       "Feedback_Negative                                 -1.000000  \n",
       "Feedback_Positive                                  1.000000  "
      ]
     },
     "execution_count": 22,
     "metadata": {},
     "output_type": "execute_result"
    }
   ],
   "source": [
    "df.corr()"
   ]
  },
  {
   "cell_type": "markdown",
   "id": "266bd957",
   "metadata": {},
   "source": [
    "# Logistic Regression"
   ]
  },
  {
   "cell_type": "code",
   "execution_count": 23,
   "id": "8eb43567",
   "metadata": {},
   "outputs": [],
   "source": [
    "from sklearn.linear_model import LogisticRegression"
   ]
  },
  {
   "cell_type": "code",
   "execution_count": 24,
   "id": "91a3ce29",
   "metadata": {},
   "outputs": [],
   "source": [
    "x=df[[\"Age\"]]\n",
    "y=df[\"Feedback_Positive\"]"
   ]
  },
  {
   "cell_type": "code",
   "execution_count": 25,
   "id": "c0fa8874",
   "metadata": {},
   "outputs": [],
   "source": [
    "mk=LogisticRegression()"
   ]
  },
  {
   "cell_type": "code",
   "execution_count": 26,
   "id": "024f72b9",
   "metadata": {},
   "outputs": [
    {
     "data": {
      "text/html": [
       "<style>#sk-container-id-1 {color: black;}#sk-container-id-1 pre{padding: 0;}#sk-container-id-1 div.sk-toggleable {background-color: white;}#sk-container-id-1 label.sk-toggleable__label {cursor: pointer;display: block;width: 100%;margin-bottom: 0;padding: 0.3em;box-sizing: border-box;text-align: center;}#sk-container-id-1 label.sk-toggleable__label-arrow:before {content: \"▸\";float: left;margin-right: 0.25em;color: #696969;}#sk-container-id-1 label.sk-toggleable__label-arrow:hover:before {color: black;}#sk-container-id-1 div.sk-estimator:hover label.sk-toggleable__label-arrow:before {color: black;}#sk-container-id-1 div.sk-toggleable__content {max-height: 0;max-width: 0;overflow: hidden;text-align: left;background-color: #f0f8ff;}#sk-container-id-1 div.sk-toggleable__content pre {margin: 0.2em;color: black;border-radius: 0.25em;background-color: #f0f8ff;}#sk-container-id-1 input.sk-toggleable__control:checked~div.sk-toggleable__content {max-height: 200px;max-width: 100%;overflow: auto;}#sk-container-id-1 input.sk-toggleable__control:checked~label.sk-toggleable__label-arrow:before {content: \"▾\";}#sk-container-id-1 div.sk-estimator input.sk-toggleable__control:checked~label.sk-toggleable__label {background-color: #d4ebff;}#sk-container-id-1 div.sk-label input.sk-toggleable__control:checked~label.sk-toggleable__label {background-color: #d4ebff;}#sk-container-id-1 input.sk-hidden--visually {border: 0;clip: rect(1px 1px 1px 1px);clip: rect(1px, 1px, 1px, 1px);height: 1px;margin: -1px;overflow: hidden;padding: 0;position: absolute;width: 1px;}#sk-container-id-1 div.sk-estimator {font-family: monospace;background-color: #f0f8ff;border: 1px dotted black;border-radius: 0.25em;box-sizing: border-box;margin-bottom: 0.5em;}#sk-container-id-1 div.sk-estimator:hover {background-color: #d4ebff;}#sk-container-id-1 div.sk-parallel-item::after {content: \"\";width: 100%;border-bottom: 1px solid gray;flex-grow: 1;}#sk-container-id-1 div.sk-label:hover label.sk-toggleable__label {background-color: #d4ebff;}#sk-container-id-1 div.sk-serial::before {content: \"\";position: absolute;border-left: 1px solid gray;box-sizing: border-box;top: 0;bottom: 0;left: 50%;z-index: 0;}#sk-container-id-1 div.sk-serial {display: flex;flex-direction: column;align-items: center;background-color: white;padding-right: 0.2em;padding-left: 0.2em;position: relative;}#sk-container-id-1 div.sk-item {position: relative;z-index: 1;}#sk-container-id-1 div.sk-parallel {display: flex;align-items: stretch;justify-content: center;background-color: white;position: relative;}#sk-container-id-1 div.sk-item::before, #sk-container-id-1 div.sk-parallel-item::before {content: \"\";position: absolute;border-left: 1px solid gray;box-sizing: border-box;top: 0;bottom: 0;left: 50%;z-index: -1;}#sk-container-id-1 div.sk-parallel-item {display: flex;flex-direction: column;z-index: 1;position: relative;background-color: white;}#sk-container-id-1 div.sk-parallel-item:first-child::after {align-self: flex-end;width: 50%;}#sk-container-id-1 div.sk-parallel-item:last-child::after {align-self: flex-start;width: 50%;}#sk-container-id-1 div.sk-parallel-item:only-child::after {width: 0;}#sk-container-id-1 div.sk-dashed-wrapped {border: 1px dashed gray;margin: 0 0.4em 0.5em 0.4em;box-sizing: border-box;padding-bottom: 0.4em;background-color: white;}#sk-container-id-1 div.sk-label label {font-family: monospace;font-weight: bold;display: inline-block;line-height: 1.2em;}#sk-container-id-1 div.sk-label-container {text-align: center;}#sk-container-id-1 div.sk-container {/* jupyter's `normalize.less` sets `[hidden] { display: none; }` but bootstrap.min.css set `[hidden] { display: none !important; }` so we also need the `!important` here to be able to override the default hidden behavior on the sphinx rendered scikit-learn.org. See: https://github.com/scikit-learn/scikit-learn/issues/21755 */display: inline-block !important;position: relative;}#sk-container-id-1 div.sk-text-repr-fallback {display: none;}</style><div id=\"sk-container-id-1\" class=\"sk-top-container\"><div class=\"sk-text-repr-fallback\"><pre>LogisticRegression()</pre><b>In a Jupyter environment, please rerun this cell to show the HTML representation or trust the notebook. <br />On GitHub, the HTML representation is unable to render, please try loading this page with nbviewer.org.</b></div><div class=\"sk-container\" hidden><div class=\"sk-item\"><div class=\"sk-estimator sk-toggleable\"><input class=\"sk-toggleable__control sk-hidden--visually\" id=\"sk-estimator-id-1\" type=\"checkbox\" checked><label for=\"sk-estimator-id-1\" class=\"sk-toggleable__label sk-toggleable__label-arrow\">LogisticRegression</label><div class=\"sk-toggleable__content\"><pre>LogisticRegression()</pre></div></div></div></div></div>"
      ],
      "text/plain": [
       "LogisticRegression()"
      ]
     },
     "execution_count": 26,
     "metadata": {},
     "output_type": "execute_result"
    }
   ],
   "source": [
    "mk.fit(x,y)"
   ]
  },
  {
   "cell_type": "code",
   "execution_count": 27,
   "id": "379c58f7",
   "metadata": {},
   "outputs": [
    {
     "name": "stdout",
     "output_type": "stream",
     "text": [
      "[5.50321661] [[-0.15984189]]\n"
     ]
    }
   ],
   "source": [
    "print(mk.intercept_,mk.coef_)"
   ]
  },
  {
   "cell_type": "code",
   "execution_count": 28,
   "id": "2768d9e9",
   "metadata": {},
   "outputs": [],
   "source": [
    "# Multi  logistic Regression Model\n",
    "x_multi=df.drop(\"Feedback_Positive\",axis=1)"
   ]
  },
  {
   "cell_type": "code",
   "execution_count": 29,
   "id": "68b28d97",
   "metadata": {},
   "outputs": [],
   "source": [
    "y_multi=df[\"Feedback_Positive\"]"
   ]
  },
  {
   "cell_type": "code",
   "execution_count": 30,
   "id": "55f2df99",
   "metadata": {},
   "outputs": [],
   "source": [
    "from sklearn.model_selection import train_test_split"
   ]
  },
  {
   "cell_type": "code",
   "execution_count": 31,
   "id": "6bb3220a",
   "metadata": {},
   "outputs": [],
   "source": [
    "x_train,x_test,y_train,y_test=train_test_split(x_multi,y_multi,test_size=0.2,random_state=0)"
   ]
  },
  {
   "cell_type": "code",
   "execution_count": 32,
   "id": "e2d164ef",
   "metadata": {},
   "outputs": [
    {
     "name": "stdout",
     "output_type": "stream",
     "text": [
      "(310, 12) (78, 12) (310,) (78,)\n"
     ]
    }
   ],
   "source": [
    "print(x_train.shape,x_test.shape,y_train.shape,y_test.shape)"
   ]
  },
  {
   "cell_type": "code",
   "execution_count": 33,
   "id": "9d483b0a",
   "metadata": {},
   "outputs": [],
   "source": [
    "lm_r=LogisticRegression()"
   ]
  },
  {
   "cell_type": "code",
   "execution_count": 34,
   "id": "dd68d401",
   "metadata": {},
   "outputs": [
    {
     "data": {
      "text/html": [
       "<style>#sk-container-id-2 {color: black;}#sk-container-id-2 pre{padding: 0;}#sk-container-id-2 div.sk-toggleable {background-color: white;}#sk-container-id-2 label.sk-toggleable__label {cursor: pointer;display: block;width: 100%;margin-bottom: 0;padding: 0.3em;box-sizing: border-box;text-align: center;}#sk-container-id-2 label.sk-toggleable__label-arrow:before {content: \"▸\";float: left;margin-right: 0.25em;color: #696969;}#sk-container-id-2 label.sk-toggleable__label-arrow:hover:before {color: black;}#sk-container-id-2 div.sk-estimator:hover label.sk-toggleable__label-arrow:before {color: black;}#sk-container-id-2 div.sk-toggleable__content {max-height: 0;max-width: 0;overflow: hidden;text-align: left;background-color: #f0f8ff;}#sk-container-id-2 div.sk-toggleable__content pre {margin: 0.2em;color: black;border-radius: 0.25em;background-color: #f0f8ff;}#sk-container-id-2 input.sk-toggleable__control:checked~div.sk-toggleable__content {max-height: 200px;max-width: 100%;overflow: auto;}#sk-container-id-2 input.sk-toggleable__control:checked~label.sk-toggleable__label-arrow:before {content: \"▾\";}#sk-container-id-2 div.sk-estimator input.sk-toggleable__control:checked~label.sk-toggleable__label {background-color: #d4ebff;}#sk-container-id-2 div.sk-label input.sk-toggleable__control:checked~label.sk-toggleable__label {background-color: #d4ebff;}#sk-container-id-2 input.sk-hidden--visually {border: 0;clip: rect(1px 1px 1px 1px);clip: rect(1px, 1px, 1px, 1px);height: 1px;margin: -1px;overflow: hidden;padding: 0;position: absolute;width: 1px;}#sk-container-id-2 div.sk-estimator {font-family: monospace;background-color: #f0f8ff;border: 1px dotted black;border-radius: 0.25em;box-sizing: border-box;margin-bottom: 0.5em;}#sk-container-id-2 div.sk-estimator:hover {background-color: #d4ebff;}#sk-container-id-2 div.sk-parallel-item::after {content: \"\";width: 100%;border-bottom: 1px solid gray;flex-grow: 1;}#sk-container-id-2 div.sk-label:hover label.sk-toggleable__label {background-color: #d4ebff;}#sk-container-id-2 div.sk-serial::before {content: \"\";position: absolute;border-left: 1px solid gray;box-sizing: border-box;top: 0;bottom: 0;left: 50%;z-index: 0;}#sk-container-id-2 div.sk-serial {display: flex;flex-direction: column;align-items: center;background-color: white;padding-right: 0.2em;padding-left: 0.2em;position: relative;}#sk-container-id-2 div.sk-item {position: relative;z-index: 1;}#sk-container-id-2 div.sk-parallel {display: flex;align-items: stretch;justify-content: center;background-color: white;position: relative;}#sk-container-id-2 div.sk-item::before, #sk-container-id-2 div.sk-parallel-item::before {content: \"\";position: absolute;border-left: 1px solid gray;box-sizing: border-box;top: 0;bottom: 0;left: 50%;z-index: -1;}#sk-container-id-2 div.sk-parallel-item {display: flex;flex-direction: column;z-index: 1;position: relative;background-color: white;}#sk-container-id-2 div.sk-parallel-item:first-child::after {align-self: flex-end;width: 50%;}#sk-container-id-2 div.sk-parallel-item:last-child::after {align-self: flex-start;width: 50%;}#sk-container-id-2 div.sk-parallel-item:only-child::after {width: 0;}#sk-container-id-2 div.sk-dashed-wrapped {border: 1px dashed gray;margin: 0 0.4em 0.5em 0.4em;box-sizing: border-box;padding-bottom: 0.4em;background-color: white;}#sk-container-id-2 div.sk-label label {font-family: monospace;font-weight: bold;display: inline-block;line-height: 1.2em;}#sk-container-id-2 div.sk-label-container {text-align: center;}#sk-container-id-2 div.sk-container {/* jupyter's `normalize.less` sets `[hidden] { display: none; }` but bootstrap.min.css set `[hidden] { display: none !important; }` so we also need the `!important` here to be able to override the default hidden behavior on the sphinx rendered scikit-learn.org. See: https://github.com/scikit-learn/scikit-learn/issues/21755 */display: inline-block !important;position: relative;}#sk-container-id-2 div.sk-text-repr-fallback {display: none;}</style><div id=\"sk-container-id-2\" class=\"sk-top-container\"><div class=\"sk-text-repr-fallback\"><pre>LogisticRegression()</pre><b>In a Jupyter environment, please rerun this cell to show the HTML representation or trust the notebook. <br />On GitHub, the HTML representation is unable to render, please try loading this page with nbviewer.org.</b></div><div class=\"sk-container\" hidden><div class=\"sk-item\"><div class=\"sk-estimator sk-toggleable\"><input class=\"sk-toggleable__control sk-hidden--visually\" id=\"sk-estimator-id-2\" type=\"checkbox\" checked><label for=\"sk-estimator-id-2\" class=\"sk-toggleable__label sk-toggleable__label-arrow\">LogisticRegression</label><div class=\"sk-toggleable__content\"><pre>LogisticRegression()</pre></div></div></div></div></div>"
      ],
      "text/plain": [
       "LogisticRegression()"
      ]
     },
     "execution_count": 34,
     "metadata": {},
     "output_type": "execute_result"
    }
   ],
   "source": [
    "lm_r.fit(x_train,y_train)"
   ]
  },
  {
   "cell_type": "code",
   "execution_count": 35,
   "id": "20105f78",
   "metadata": {},
   "outputs": [
    {
     "name": "stdout",
     "output_type": "stream",
     "text": [
      "[4.75165885e-12] [[ 9.69471430e-11  1.63633153e-11  2.66113980e-06  1.33796685e-12\n",
      "  -1.67262644e-12  2.00754324e-13  6.22353097e-12 -2.37098236e-12\n",
      "   7.12264121e-12  5.29335100e-12 -1.75166753e-13 -1.42703388e-11]]\n"
     ]
    }
   ],
   "source": [
    "print(lm_r.intercept_,lm_r.coef_)"
   ]
  },
  {
   "cell_type": "code",
   "execution_count": 36,
   "id": "707f8a70",
   "metadata": {},
   "outputs": [],
   "source": [
    "y_test_pred=lm_r.predict(x_test)"
   ]
  },
  {
   "cell_type": "code",
   "execution_count": 37,
   "id": "e7c7a7c7",
   "metadata": {},
   "outputs": [
    {
     "data": {
      "text/plain": [
       "array([1, 1, 1, 1, 1, 1, 1, 1, 1, 1, 1, 1, 1, 1, 1, 1, 1, 1, 1, 1, 1, 1,\n",
       "       1, 1, 1, 1, 1, 1, 1, 1, 1, 1, 1, 1, 1, 1, 1, 1, 1, 1, 1, 1, 1, 1,\n",
       "       1, 1, 1, 1, 1, 1, 1, 1, 1, 1, 1, 1, 1, 1, 1, 1, 1, 1, 1, 1, 1, 1,\n",
       "       1, 1, 1, 1, 1, 1, 1, 1, 1, 1, 1, 1])"
      ]
     },
     "execution_count": 37,
     "metadata": {},
     "output_type": "execute_result"
    }
   ],
   "source": [
    "y_test_pred"
   ]
  },
  {
   "cell_type": "code",
   "execution_count": 38,
   "id": "9e5a96c3",
   "metadata": {},
   "outputs": [],
   "source": [
    "y_train_pred=lm_r.predict(x_train)"
   ]
  },
  {
   "cell_type": "code",
   "execution_count": 39,
   "id": "468fca79",
   "metadata": {},
   "outputs": [
    {
     "data": {
      "text/plain": [
       "array([1, 1, 1, 1, 1, 1, 1, 1, 1, 1, 1, 1, 1, 1, 1, 1, 1, 1, 1, 1, 1, 1,\n",
       "       1, 1, 1, 1, 1, 1, 1, 1, 1, 1, 1, 1, 1, 1, 1, 1, 1, 1, 1, 1, 1, 1,\n",
       "       1, 1, 1, 1, 1, 1, 1, 1, 1, 1, 1, 1, 1, 1, 1, 1, 1, 1, 1, 1, 1, 1,\n",
       "       1, 1, 1, 1, 1, 1, 1, 1, 1, 1, 1, 1, 1, 1, 1, 1, 1, 1, 1, 1, 1, 1,\n",
       "       1, 1, 1, 1, 1, 1, 1, 1, 1, 1, 1, 1, 1, 1, 1, 1, 1, 1, 1, 1, 1, 1,\n",
       "       1, 1, 1, 1, 1, 1, 1, 1, 1, 1, 1, 1, 1, 1, 1, 1, 1, 1, 1, 1, 1, 1,\n",
       "       1, 1, 1, 1, 1, 1, 1, 1, 1, 1, 1, 1, 1, 1, 1, 1, 1, 1, 1, 1, 1, 1,\n",
       "       1, 1, 1, 1, 1, 1, 1, 1, 1, 1, 1, 1, 1, 1, 1, 1, 1, 1, 1, 1, 1, 1,\n",
       "       1, 1, 1, 1, 1, 1, 1, 1, 1, 1, 1, 1, 1, 1, 1, 1, 1, 1, 1, 1, 1, 1,\n",
       "       1, 1, 1, 1, 1, 1, 1, 1, 1, 1, 1, 1, 1, 1, 1, 1, 1, 1, 1, 1, 1, 1,\n",
       "       1, 1, 1, 1, 1, 1, 1, 1, 1, 1, 1, 1, 1, 1, 1, 1, 1, 1, 1, 1, 1, 1,\n",
       "       1, 1, 1, 1, 1, 1, 1, 1, 1, 1, 1, 1, 1, 1, 1, 1, 1, 1, 1, 1, 1, 1,\n",
       "       1, 1, 1, 1, 1, 1, 1, 1, 1, 1, 1, 1, 1, 1, 1, 1, 1, 1, 1, 1, 1, 1,\n",
       "       1, 1, 1, 1, 1, 1, 1, 1, 1, 1, 1, 1, 1, 1, 1, 1, 1, 1, 1, 1, 1, 1,\n",
       "       1, 1])"
      ]
     },
     "execution_count": 39,
     "metadata": {},
     "output_type": "execute_result"
    }
   ],
   "source": [
    "y_train_pred"
   ]
  },
  {
   "cell_type": "code",
   "execution_count": 40,
   "id": "f6e205cb",
   "metadata": {},
   "outputs": [
    {
     "data": {
      "text/plain": [
       "-0.2252964426877473"
      ]
     },
     "execution_count": 40,
     "metadata": {},
     "output_type": "execute_result"
    }
   ],
   "source": [
    "from sklearn.metrics import r2_score\n",
    "r2_score(y_test, y_test_pred)\n",
    "r2_score(y_train,y_train_pred)"
   ]
  },
  {
   "cell_type": "code",
   "execution_count": 41,
   "id": "c7e162cb",
   "metadata": {},
   "outputs": [
    {
     "data": {
      "text/plain": [
       "-0.2252964426877473"
      ]
     },
     "execution_count": 41,
     "metadata": {},
     "output_type": "execute_result"
    }
   ],
   "source": [
    "r2_score(y_train,y_train_pred)"
   ]
  },
  {
   "cell_type": "code",
   "execution_count": 42,
   "id": "6058daba",
   "metadata": {},
   "outputs": [],
   "source": [
    "from sklearn.metrics import accuracy_score,confusion_matrix,precision_score\n"
   ]
  },
  {
   "cell_type": "code",
   "execution_count": 43,
   "id": "fdd553ff",
   "metadata": {},
   "outputs": [
    {
     "data": {
      "text/plain": [
       "array([[ 0, 14],\n",
       "       [ 0, 64]], dtype=int64)"
      ]
     },
     "execution_count": 43,
     "metadata": {},
     "output_type": "execute_result"
    }
   ],
   "source": [
    "confusion_matrix(y_test,lm_r.predict(x_test))"
   ]
  },
  {
   "cell_type": "code",
   "execution_count": 44,
   "id": "70535264",
   "metadata": {},
   "outputs": [
    {
     "data": {
      "text/plain": [
       "0.8205128205128205"
      ]
     },
     "execution_count": 44,
     "metadata": {},
     "output_type": "execute_result"
    }
   ],
   "source": [
    "\n",
    "precision_score(y_test, y_test_pred)\n"
   ]
  },
  {
   "cell_type": "code",
   "execution_count": 45,
   "id": "ba0bb473",
   "metadata": {},
   "outputs": [
    {
     "data": {
      "text/plain": [
       "0.8205128205128205"
      ]
     },
     "execution_count": 45,
     "metadata": {},
     "output_type": "execute_result"
    }
   ],
   "source": [
    "accuracy_score(y_test,lm_r.predict(x_test))"
   ]
  },
  {
   "cell_type": "code",
   "execution_count": 46,
   "id": "23cca58b",
   "metadata": {},
   "outputs": [],
   "source": [
    "from sklearn.preprocessing import StandardScaler"
   ]
  },
  {
   "cell_type": "code",
   "execution_count": 47,
   "id": "d6394c02",
   "metadata": {},
   "outputs": [],
   "source": [
    "sc=StandardScaler()"
   ]
  },
  {
   "cell_type": "code",
   "execution_count": 49,
   "id": "27a75c19",
   "metadata": {},
   "outputs": [],
   "source": [
    "x_trains=sc.fit_transform(x_train)"
   ]
  },
  {
   "cell_type": "code",
   "execution_count": 50,
   "id": "eeff827b",
   "metadata": {},
   "outputs": [],
   "source": [
    "x_tests=sc.transform(x_test)"
   ]
  },
  {
   "cell_type": "code",
   "execution_count": 51,
   "id": "311619cd",
   "metadata": {},
   "outputs": [],
   "source": [
    "from sklearn.linear_model import Ridge"
   ]
  },
  {
   "cell_type": "code",
   "execution_count": 52,
   "id": "2924610e",
   "metadata": {},
   "outputs": [
    {
     "data": {
      "text/html": [
       "<div>\n",
       "<style scoped>\n",
       "    .dataframe tbody tr th:only-of-type {\n",
       "        vertical-align: middle;\n",
       "    }\n",
       "\n",
       "    .dataframe tbody tr th {\n",
       "        vertical-align: top;\n",
       "    }\n",
       "\n",
       "    .dataframe thead th {\n",
       "        text-align: right;\n",
       "    }\n",
       "</style>\n",
       "<table border=\"1\" class=\"dataframe\">\n",
       "  <thead>\n",
       "    <tr style=\"text-align: right;\">\n",
       "      <th></th>\n",
       "      <th>Age</th>\n",
       "      <th>Family size</th>\n",
       "      <th>Pin code</th>\n",
       "      <th>Gender_Male</th>\n",
       "      <th>Marital Status_Married</th>\n",
       "      <th>Marital Status_Prefer not to say</th>\n",
       "      <th>Marital Status_Single</th>\n",
       "      <th>Occupation_Employee</th>\n",
       "      <th>Occupation_Student</th>\n",
       "      <th>Educational Qualifications_Post Graduate</th>\n",
       "      <th>Educational Qualifications_Uneducated</th>\n",
       "      <th>Feedback_Negative</th>\n",
       "    </tr>\n",
       "  </thead>\n",
       "  <tbody>\n",
       "    <tr>\n",
       "      <th>287</th>\n",
       "      <td>28</td>\n",
       "      <td>5</td>\n",
       "      <td>560023</td>\n",
       "      <td>0</td>\n",
       "      <td>1</td>\n",
       "      <td>0</td>\n",
       "      <td>0</td>\n",
       "      <td>1</td>\n",
       "      <td>0</td>\n",
       "      <td>0</td>\n",
       "      <td>0</td>\n",
       "      <td>1</td>\n",
       "    </tr>\n",
       "    <tr>\n",
       "      <th>56</th>\n",
       "      <td>22</td>\n",
       "      <td>1</td>\n",
       "      <td>560076</td>\n",
       "      <td>0</td>\n",
       "      <td>0</td>\n",
       "      <td>0</td>\n",
       "      <td>1</td>\n",
       "      <td>0</td>\n",
       "      <td>1</td>\n",
       "      <td>1</td>\n",
       "      <td>0</td>\n",
       "      <td>0</td>\n",
       "    </tr>\n",
       "    <tr>\n",
       "      <th>8</th>\n",
       "      <td>23</td>\n",
       "      <td>2</td>\n",
       "      <td>560001</td>\n",
       "      <td>0</td>\n",
       "      <td>0</td>\n",
       "      <td>0</td>\n",
       "      <td>1</td>\n",
       "      <td>0</td>\n",
       "      <td>1</td>\n",
       "      <td>1</td>\n",
       "      <td>0</td>\n",
       "      <td>0</td>\n",
       "    </tr>\n",
       "    <tr>\n",
       "      <th>313</th>\n",
       "      <td>21</td>\n",
       "      <td>3</td>\n",
       "      <td>560070</td>\n",
       "      <td>0</td>\n",
       "      <td>0</td>\n",
       "      <td>0</td>\n",
       "      <td>1</td>\n",
       "      <td>0</td>\n",
       "      <td>1</td>\n",
       "      <td>1</td>\n",
       "      <td>0</td>\n",
       "      <td>0</td>\n",
       "    </tr>\n",
       "    <tr>\n",
       "      <th>134</th>\n",
       "      <td>19</td>\n",
       "      <td>4</td>\n",
       "      <td>560047</td>\n",
       "      <td>0</td>\n",
       "      <td>0</td>\n",
       "      <td>0</td>\n",
       "      <td>1</td>\n",
       "      <td>0</td>\n",
       "      <td>1</td>\n",
       "      <td>0</td>\n",
       "      <td>0</td>\n",
       "      <td>0</td>\n",
       "    </tr>\n",
       "    <tr>\n",
       "      <th>...</th>\n",
       "      <td>...</td>\n",
       "      <td>...</td>\n",
       "      <td>...</td>\n",
       "      <td>...</td>\n",
       "      <td>...</td>\n",
       "      <td>...</td>\n",
       "      <td>...</td>\n",
       "      <td>...</td>\n",
       "      <td>...</td>\n",
       "      <td>...</td>\n",
       "      <td>...</td>\n",
       "      <td>...</td>\n",
       "    </tr>\n",
       "    <tr>\n",
       "      <th>323</th>\n",
       "      <td>22</td>\n",
       "      <td>3</td>\n",
       "      <td>560096</td>\n",
       "      <td>1</td>\n",
       "      <td>0</td>\n",
       "      <td>0</td>\n",
       "      <td>1</td>\n",
       "      <td>0</td>\n",
       "      <td>1</td>\n",
       "      <td>0</td>\n",
       "      <td>0</td>\n",
       "      <td>0</td>\n",
       "    </tr>\n",
       "    <tr>\n",
       "      <th>192</th>\n",
       "      <td>31</td>\n",
       "      <td>5</td>\n",
       "      <td>560025</td>\n",
       "      <td>0</td>\n",
       "      <td>1</td>\n",
       "      <td>0</td>\n",
       "      <td>0</td>\n",
       "      <td>1</td>\n",
       "      <td>0</td>\n",
       "      <td>1</td>\n",
       "      <td>0</td>\n",
       "      <td>0</td>\n",
       "    </tr>\n",
       "    <tr>\n",
       "      <th>117</th>\n",
       "      <td>24</td>\n",
       "      <td>2</td>\n",
       "      <td>560006</td>\n",
       "      <td>1</td>\n",
       "      <td>0</td>\n",
       "      <td>1</td>\n",
       "      <td>0</td>\n",
       "      <td>1</td>\n",
       "      <td>0</td>\n",
       "      <td>1</td>\n",
       "      <td>0</td>\n",
       "      <td>0</td>\n",
       "    </tr>\n",
       "    <tr>\n",
       "      <th>47</th>\n",
       "      <td>23</td>\n",
       "      <td>2</td>\n",
       "      <td>560009</td>\n",
       "      <td>1</td>\n",
       "      <td>0</td>\n",
       "      <td>0</td>\n",
       "      <td>1</td>\n",
       "      <td>0</td>\n",
       "      <td>1</td>\n",
       "      <td>1</td>\n",
       "      <td>0</td>\n",
       "      <td>0</td>\n",
       "    </tr>\n",
       "    <tr>\n",
       "      <th>172</th>\n",
       "      <td>27</td>\n",
       "      <td>1</td>\n",
       "      <td>560016</td>\n",
       "      <td>1</td>\n",
       "      <td>0</td>\n",
       "      <td>1</td>\n",
       "      <td>0</td>\n",
       "      <td>1</td>\n",
       "      <td>0</td>\n",
       "      <td>1</td>\n",
       "      <td>0</td>\n",
       "      <td>0</td>\n",
       "    </tr>\n",
       "  </tbody>\n",
       "</table>\n",
       "<p>310 rows × 12 columns</p>\n",
       "</div>"
      ],
      "text/plain": [
       "     Age  Family size  Pin code  Gender_Male  Marital Status_Married  \\\n",
       "287   28            5    560023            0                       1   \n",
       "56    22            1    560076            0                       0   \n",
       "8     23            2    560001            0                       0   \n",
       "313   21            3    560070            0                       0   \n",
       "134   19            4    560047            0                       0   \n",
       "..   ...          ...       ...          ...                     ...   \n",
       "323   22            3    560096            1                       0   \n",
       "192   31            5    560025            0                       1   \n",
       "117   24            2    560006            1                       0   \n",
       "47    23            2    560009            1                       0   \n",
       "172   27            1    560016            1                       0   \n",
       "\n",
       "     Marital Status_Prefer not to say  Marital Status_Single  \\\n",
       "287                                 0                      0   \n",
       "56                                  0                      1   \n",
       "8                                   0                      1   \n",
       "313                                 0                      1   \n",
       "134                                 0                      1   \n",
       "..                                ...                    ...   \n",
       "323                                 0                      1   \n",
       "192                                 0                      0   \n",
       "117                                 1                      0   \n",
       "47                                  0                      1   \n",
       "172                                 1                      0   \n",
       "\n",
       "     Occupation_Employee  Occupation_Student  \\\n",
       "287                    1                   0   \n",
       "56                     0                   1   \n",
       "8                      0                   1   \n",
       "313                    0                   1   \n",
       "134                    0                   1   \n",
       "..                   ...                 ...   \n",
       "323                    0                   1   \n",
       "192                    1                   0   \n",
       "117                    1                   0   \n",
       "47                     0                   1   \n",
       "172                    1                   0   \n",
       "\n",
       "     Educational Qualifications_Post Graduate  \\\n",
       "287                                         0   \n",
       "56                                          1   \n",
       "8                                           1   \n",
       "313                                         1   \n",
       "134                                         0   \n",
       "..                                        ...   \n",
       "323                                         0   \n",
       "192                                         1   \n",
       "117                                         1   \n",
       "47                                          1   \n",
       "172                                         1   \n",
       "\n",
       "     Educational Qualifications_Uneducated  Feedback_Negative   \n",
       "287                                      0                   1  \n",
       "56                                       0                   0  \n",
       "8                                        0                   0  \n",
       "313                                      0                   0  \n",
       "134                                      0                   0  \n",
       "..                                     ...                 ...  \n",
       "323                                      0                   0  \n",
       "192                                      0                   0  \n",
       "117                                      0                   0  \n",
       "47                                       0                   0  \n",
       "172                                      0                   0  \n",
       "\n",
       "[310 rows x 12 columns]"
      ]
     },
     "execution_count": 52,
     "metadata": {},
     "output_type": "execute_result"
    }
   ],
   "source": [
    "lm_r=Ridge(alpha=0.1)\n",
    "lm_r.fit(x_trains,y_train)\n",
    "x_train"
   ]
  },
  {
   "cell_type": "code",
   "execution_count": null,
   "id": "da538819",
   "metadata": {},
   "outputs": [],
   "source": []
  },
  {
   "cell_type": "markdown",
   "id": "f668ea5e",
   "metadata": {},
   "source": [
    "# LDA\n"
   ]
  },
  {
   "cell_type": "code",
   "execution_count": 53,
   "id": "e3b62b16",
   "metadata": {},
   "outputs": [
    {
     "data": {
      "text/html": [
       "<div>\n",
       "<style scoped>\n",
       "    .dataframe tbody tr th:only-of-type {\n",
       "        vertical-align: middle;\n",
       "    }\n",
       "\n",
       "    .dataframe tbody tr th {\n",
       "        vertical-align: top;\n",
       "    }\n",
       "\n",
       "    .dataframe thead th {\n",
       "        text-align: right;\n",
       "    }\n",
       "</style>\n",
       "<table border=\"1\" class=\"dataframe\">\n",
       "  <thead>\n",
       "    <tr style=\"text-align: right;\">\n",
       "      <th></th>\n",
       "      <th>Age</th>\n",
       "      <th>Family size</th>\n",
       "      <th>Pin code</th>\n",
       "      <th>Gender_Male</th>\n",
       "      <th>Marital Status_Married</th>\n",
       "      <th>Marital Status_Prefer not to say</th>\n",
       "      <th>Marital Status_Single</th>\n",
       "      <th>Occupation_Employee</th>\n",
       "      <th>Occupation_Student</th>\n",
       "      <th>Educational Qualifications_Post Graduate</th>\n",
       "      <th>Educational Qualifications_Uneducated</th>\n",
       "      <th>Feedback_Negative</th>\n",
       "      <th>Feedback_Positive</th>\n",
       "    </tr>\n",
       "  </thead>\n",
       "  <tbody>\n",
       "    <tr>\n",
       "      <th>0</th>\n",
       "      <td>20</td>\n",
       "      <td>4</td>\n",
       "      <td>560001</td>\n",
       "      <td>0</td>\n",
       "      <td>0</td>\n",
       "      <td>0</td>\n",
       "      <td>1</td>\n",
       "      <td>0</td>\n",
       "      <td>1</td>\n",
       "      <td>1</td>\n",
       "      <td>0</td>\n",
       "      <td>0</td>\n",
       "      <td>1</td>\n",
       "    </tr>\n",
       "    <tr>\n",
       "      <th>1</th>\n",
       "      <td>24</td>\n",
       "      <td>3</td>\n",
       "      <td>560009</td>\n",
       "      <td>0</td>\n",
       "      <td>0</td>\n",
       "      <td>0</td>\n",
       "      <td>1</td>\n",
       "      <td>0</td>\n",
       "      <td>1</td>\n",
       "      <td>0</td>\n",
       "      <td>0</td>\n",
       "      <td>0</td>\n",
       "      <td>1</td>\n",
       "    </tr>\n",
       "    <tr>\n",
       "      <th>2</th>\n",
       "      <td>22</td>\n",
       "      <td>3</td>\n",
       "      <td>560017</td>\n",
       "      <td>1</td>\n",
       "      <td>0</td>\n",
       "      <td>0</td>\n",
       "      <td>1</td>\n",
       "      <td>0</td>\n",
       "      <td>1</td>\n",
       "      <td>1</td>\n",
       "      <td>0</td>\n",
       "      <td>1</td>\n",
       "      <td>0</td>\n",
       "    </tr>\n",
       "    <tr>\n",
       "      <th>3</th>\n",
       "      <td>22</td>\n",
       "      <td>6</td>\n",
       "      <td>560019</td>\n",
       "      <td>0</td>\n",
       "      <td>0</td>\n",
       "      <td>0</td>\n",
       "      <td>1</td>\n",
       "      <td>0</td>\n",
       "      <td>1</td>\n",
       "      <td>0</td>\n",
       "      <td>0</td>\n",
       "      <td>0</td>\n",
       "      <td>1</td>\n",
       "    </tr>\n",
       "    <tr>\n",
       "      <th>4</th>\n",
       "      <td>22</td>\n",
       "      <td>4</td>\n",
       "      <td>560010</td>\n",
       "      <td>1</td>\n",
       "      <td>0</td>\n",
       "      <td>0</td>\n",
       "      <td>1</td>\n",
       "      <td>0</td>\n",
       "      <td>1</td>\n",
       "      <td>1</td>\n",
       "      <td>0</td>\n",
       "      <td>0</td>\n",
       "      <td>1</td>\n",
       "    </tr>\n",
       "  </tbody>\n",
       "</table>\n",
       "</div>"
      ],
      "text/plain": [
       "   Age  Family size  Pin code  Gender_Male  Marital Status_Married  \\\n",
       "0   20            4    560001            0                       0   \n",
       "1   24            3    560009            0                       0   \n",
       "2   22            3    560017            1                       0   \n",
       "3   22            6    560019            0                       0   \n",
       "4   22            4    560010            1                       0   \n",
       "\n",
       "   Marital Status_Prefer not to say  Marital Status_Single  \\\n",
       "0                                 0                      1   \n",
       "1                                 0                      1   \n",
       "2                                 0                      1   \n",
       "3                                 0                      1   \n",
       "4                                 0                      1   \n",
       "\n",
       "   Occupation_Employee  Occupation_Student  \\\n",
       "0                    0                   1   \n",
       "1                    0                   1   \n",
       "2                    0                   1   \n",
       "3                    0                   1   \n",
       "4                    0                   1   \n",
       "\n",
       "   Educational Qualifications_Post Graduate  \\\n",
       "0                                         1   \n",
       "1                                         0   \n",
       "2                                         1   \n",
       "3                                         0   \n",
       "4                                         1   \n",
       "\n",
       "   Educational Qualifications_Uneducated  Feedback_Negative   \\\n",
       "0                                      0                   0   \n",
       "1                                      0                   0   \n",
       "2                                      0                   1   \n",
       "3                                      0                   0   \n",
       "4                                      0                   0   \n",
       "\n",
       "   Feedback_Positive  \n",
       "0                  1  \n",
       "1                  1  \n",
       "2                  0  \n",
       "3                  1  \n",
       "4                  1  "
      ]
     },
     "execution_count": 53,
     "metadata": {},
     "output_type": "execute_result"
    }
   ],
   "source": [
    "df.head()"
   ]
  },
  {
   "cell_type": "code",
   "execution_count": 54,
   "id": "a3ebcfe3",
   "metadata": {},
   "outputs": [],
   "source": [
    "x=df[[\"Occupation_Employee\"]]"
   ]
  },
  {
   "cell_type": "code",
   "execution_count": 55,
   "id": "91e0620d",
   "metadata": {},
   "outputs": [],
   "source": [
    "y=df[\"Feedback_Positive\"]"
   ]
  },
  {
   "cell_type": "code",
   "execution_count": 57,
   "id": "a22593c7",
   "metadata": {},
   "outputs": [],
   "source": [
    "from sklearn.discriminant_analysis import LinearDiscriminantAnalysis"
   ]
  },
  {
   "cell_type": "code",
   "execution_count": 58,
   "id": "c48cd37f",
   "metadata": {},
   "outputs": [],
   "source": [
    "clf_lda=LinearDiscriminantAnalysis()"
   ]
  },
  {
   "cell_type": "code",
   "execution_count": 59,
   "id": "f6227358",
   "metadata": {},
   "outputs": [
    {
     "data": {
      "text/html": [
       "<style>#sk-container-id-3 {color: black;}#sk-container-id-3 pre{padding: 0;}#sk-container-id-3 div.sk-toggleable {background-color: white;}#sk-container-id-3 label.sk-toggleable__label {cursor: pointer;display: block;width: 100%;margin-bottom: 0;padding: 0.3em;box-sizing: border-box;text-align: center;}#sk-container-id-3 label.sk-toggleable__label-arrow:before {content: \"▸\";float: left;margin-right: 0.25em;color: #696969;}#sk-container-id-3 label.sk-toggleable__label-arrow:hover:before {color: black;}#sk-container-id-3 div.sk-estimator:hover label.sk-toggleable__label-arrow:before {color: black;}#sk-container-id-3 div.sk-toggleable__content {max-height: 0;max-width: 0;overflow: hidden;text-align: left;background-color: #f0f8ff;}#sk-container-id-3 div.sk-toggleable__content pre {margin: 0.2em;color: black;border-radius: 0.25em;background-color: #f0f8ff;}#sk-container-id-3 input.sk-toggleable__control:checked~div.sk-toggleable__content {max-height: 200px;max-width: 100%;overflow: auto;}#sk-container-id-3 input.sk-toggleable__control:checked~label.sk-toggleable__label-arrow:before {content: \"▾\";}#sk-container-id-3 div.sk-estimator input.sk-toggleable__control:checked~label.sk-toggleable__label {background-color: #d4ebff;}#sk-container-id-3 div.sk-label input.sk-toggleable__control:checked~label.sk-toggleable__label {background-color: #d4ebff;}#sk-container-id-3 input.sk-hidden--visually {border: 0;clip: rect(1px 1px 1px 1px);clip: rect(1px, 1px, 1px, 1px);height: 1px;margin: -1px;overflow: hidden;padding: 0;position: absolute;width: 1px;}#sk-container-id-3 div.sk-estimator {font-family: monospace;background-color: #f0f8ff;border: 1px dotted black;border-radius: 0.25em;box-sizing: border-box;margin-bottom: 0.5em;}#sk-container-id-3 div.sk-estimator:hover {background-color: #d4ebff;}#sk-container-id-3 div.sk-parallel-item::after {content: \"\";width: 100%;border-bottom: 1px solid gray;flex-grow: 1;}#sk-container-id-3 div.sk-label:hover label.sk-toggleable__label {background-color: #d4ebff;}#sk-container-id-3 div.sk-serial::before {content: \"\";position: absolute;border-left: 1px solid gray;box-sizing: border-box;top: 0;bottom: 0;left: 50%;z-index: 0;}#sk-container-id-3 div.sk-serial {display: flex;flex-direction: column;align-items: center;background-color: white;padding-right: 0.2em;padding-left: 0.2em;position: relative;}#sk-container-id-3 div.sk-item {position: relative;z-index: 1;}#sk-container-id-3 div.sk-parallel {display: flex;align-items: stretch;justify-content: center;background-color: white;position: relative;}#sk-container-id-3 div.sk-item::before, #sk-container-id-3 div.sk-parallel-item::before {content: \"\";position: absolute;border-left: 1px solid gray;box-sizing: border-box;top: 0;bottom: 0;left: 50%;z-index: -1;}#sk-container-id-3 div.sk-parallel-item {display: flex;flex-direction: column;z-index: 1;position: relative;background-color: white;}#sk-container-id-3 div.sk-parallel-item:first-child::after {align-self: flex-end;width: 50%;}#sk-container-id-3 div.sk-parallel-item:last-child::after {align-self: flex-start;width: 50%;}#sk-container-id-3 div.sk-parallel-item:only-child::after {width: 0;}#sk-container-id-3 div.sk-dashed-wrapped {border: 1px dashed gray;margin: 0 0.4em 0.5em 0.4em;box-sizing: border-box;padding-bottom: 0.4em;background-color: white;}#sk-container-id-3 div.sk-label label {font-family: monospace;font-weight: bold;display: inline-block;line-height: 1.2em;}#sk-container-id-3 div.sk-label-container {text-align: center;}#sk-container-id-3 div.sk-container {/* jupyter's `normalize.less` sets `[hidden] { display: none; }` but bootstrap.min.css set `[hidden] { display: none !important; }` so we also need the `!important` here to be able to override the default hidden behavior on the sphinx rendered scikit-learn.org. See: https://github.com/scikit-learn/scikit-learn/issues/21755 */display: inline-block !important;position: relative;}#sk-container-id-3 div.sk-text-repr-fallback {display: none;}</style><div id=\"sk-container-id-3\" class=\"sk-top-container\"><div class=\"sk-text-repr-fallback\"><pre>LinearDiscriminantAnalysis()</pre><b>In a Jupyter environment, please rerun this cell to show the HTML representation or trust the notebook. <br />On GitHub, the HTML representation is unable to render, please try loading this page with nbviewer.org.</b></div><div class=\"sk-container\" hidden><div class=\"sk-item\"><div class=\"sk-estimator sk-toggleable\"><input class=\"sk-toggleable__control sk-hidden--visually\" id=\"sk-estimator-id-3\" type=\"checkbox\" checked><label for=\"sk-estimator-id-3\" class=\"sk-toggleable__label sk-toggleable__label-arrow\">LinearDiscriminantAnalysis</label><div class=\"sk-toggleable__content\"><pre>LinearDiscriminantAnalysis()</pre></div></div></div></div></div>"
      ],
      "text/plain": [
       "LinearDiscriminantAnalysis()"
      ]
     },
     "execution_count": 59,
     "metadata": {},
     "output_type": "execute_result"
    }
   ],
   "source": [
    "clf_lda.fit(x,y)"
   ]
  },
  {
   "cell_type": "code",
   "execution_count": 60,
   "id": "4c098afc",
   "metadata": {},
   "outputs": [
    {
     "name": "stdout",
     "output_type": "stream",
     "text": [
      "[2.19122123] [[-1.28924009]]\n"
     ]
    }
   ],
   "source": [
    "print(clf_lda.intercept_,clf_lda.coef_)"
   ]
  },
  {
   "cell_type": "code",
   "execution_count": 61,
   "id": "29f37f3e",
   "metadata": {},
   "outputs": [],
   "source": [
    "y_predict_lda=clf_lda.predict(x)"
   ]
  },
  {
   "cell_type": "code",
   "execution_count": 62,
   "id": "4fadd8ac",
   "metadata": {},
   "outputs": [
    {
     "data": {
      "text/plain": [
       "array([1, 1, 1, 1, 1, 1, 1, 1, 1, 1, 1, 1, 1, 1, 1, 1, 1, 1, 1, 1, 1, 1,\n",
       "       1, 1, 1, 1, 1, 1, 1, 1, 1, 1, 1, 1, 1, 1, 1, 1, 1, 1, 1, 1, 1, 1,\n",
       "       1, 1, 1, 1, 1, 1, 1, 1, 1, 1, 1, 1, 1, 1, 1, 1, 1, 1, 1, 1, 1, 1,\n",
       "       1, 1, 1, 1, 1, 1, 1, 1, 1, 1, 1, 1, 1, 1, 1, 1, 1, 1, 1, 1, 1, 1,\n",
       "       1, 1, 1, 1, 1, 1, 1, 1, 1, 1, 1, 1, 1, 1, 1, 1, 1, 1, 1, 1, 1, 1,\n",
       "       1, 1, 1, 1, 1, 1, 1, 1, 1, 1, 1, 1, 1, 1, 1, 1, 1, 1, 1, 1, 1, 1,\n",
       "       1, 1, 1, 1, 1, 1, 1, 1, 1, 1, 1, 1, 1, 1, 1, 1, 1, 1, 1, 1, 1, 1,\n",
       "       1, 1, 1, 1, 1, 1, 1, 1, 1, 1, 1, 1, 1, 1, 1, 1, 1, 1, 1, 1, 1, 1,\n",
       "       1, 1, 1, 1, 1, 1, 1, 1, 1, 1, 1, 1, 1, 1, 1, 1, 1, 1, 1, 1, 1, 1,\n",
       "       1, 1, 1, 1, 1, 1, 1, 1, 1, 1, 1, 1, 1, 1, 1, 1, 1, 1, 1, 1, 1, 1,\n",
       "       1, 1, 1, 1, 1, 1, 1, 1, 1, 1, 1, 1, 1, 1, 1, 1, 1, 1, 1, 1, 1, 1,\n",
       "       1, 1, 1, 1, 1, 1, 1, 1, 1, 1, 1, 1, 1, 1, 1, 1, 1, 1, 1, 1, 1, 1,\n",
       "       1, 1, 1, 1, 1, 1, 1, 1, 1, 1, 1, 1, 1, 1, 1, 1, 1, 1, 1, 1, 1, 1,\n",
       "       1, 1, 1, 1, 1, 1, 1, 1, 1, 1, 1, 1, 1, 1, 1, 1, 1, 1, 1, 1, 1, 1,\n",
       "       1, 1, 1, 1, 1, 1, 1, 1, 1, 1, 1, 1, 1, 1, 1, 1, 1, 1, 1, 1, 1, 1,\n",
       "       1, 1, 1, 1, 1, 1, 1, 1, 1, 1, 1, 1, 1, 1, 1, 1, 1, 1, 1, 1, 1, 1,\n",
       "       1, 1, 1, 1, 1, 1, 1, 1, 1, 1, 1, 1, 1, 1, 1, 1, 1, 1, 1, 1, 1, 1,\n",
       "       1, 1, 1, 1, 1, 1, 1, 1, 1, 1, 1, 1, 1, 1])"
      ]
     },
     "execution_count": 62,
     "metadata": {},
     "output_type": "execute_result"
    }
   ],
   "source": [
    "y_predict_lda"
   ]
  },
  {
   "cell_type": "code",
   "execution_count": 63,
   "id": "1f6e4f65",
   "metadata": {},
   "outputs": [],
   "source": [
    "# multi Linear Desrciminant Analysis"
   ]
  },
  {
   "cell_type": "code",
   "execution_count": 64,
   "id": "9e4e3767",
   "metadata": {},
   "outputs": [],
   "source": [
    "x_multi=df.drop(\"Feedback_Positive\",axis=1)"
   ]
  },
  {
   "cell_type": "code",
   "execution_count": 66,
   "id": "773e4771",
   "metadata": {},
   "outputs": [],
   "source": [
    "y_multi=df[\"Feedback_Positive\"]"
   ]
  },
  {
   "cell_type": "code",
   "execution_count": 68,
   "id": "550125c7",
   "metadata": {},
   "outputs": [],
   "source": [
    "from sklearn.model_selection import train_test_split"
   ]
  },
  {
   "cell_type": "code",
   "execution_count": 69,
   "id": "69549d81",
   "metadata": {},
   "outputs": [],
   "source": [
    "x_train,x_test,y_train,y_test=train_test_split(x_multi,y_multi,test_size=0.2,random_state=0)"
   ]
  },
  {
   "cell_type": "code",
   "execution_count": 70,
   "id": "f80720a1",
   "metadata": {},
   "outputs": [
    {
     "name": "stdout",
     "output_type": "stream",
     "text": [
      "(310, 12) (78, 12) (310,) (78,)\n"
     ]
    }
   ],
   "source": [
    "print(x_train.shape,x_test.shape,y_train.shape,y_test.shape)"
   ]
  },
  {
   "cell_type": "code",
   "execution_count": 71,
   "id": "0ddd0bf3",
   "metadata": {},
   "outputs": [],
   "source": [
    "clf_ldaa=LinearDiscriminantAnalysis()"
   ]
  },
  {
   "cell_type": "code",
   "execution_count": 72,
   "id": "48421df6",
   "metadata": {},
   "outputs": [
    {
     "data": {
      "text/html": [
       "<style>#sk-container-id-4 {color: black;}#sk-container-id-4 pre{padding: 0;}#sk-container-id-4 div.sk-toggleable {background-color: white;}#sk-container-id-4 label.sk-toggleable__label {cursor: pointer;display: block;width: 100%;margin-bottom: 0;padding: 0.3em;box-sizing: border-box;text-align: center;}#sk-container-id-4 label.sk-toggleable__label-arrow:before {content: \"▸\";float: left;margin-right: 0.25em;color: #696969;}#sk-container-id-4 label.sk-toggleable__label-arrow:hover:before {color: black;}#sk-container-id-4 div.sk-estimator:hover label.sk-toggleable__label-arrow:before {color: black;}#sk-container-id-4 div.sk-toggleable__content {max-height: 0;max-width: 0;overflow: hidden;text-align: left;background-color: #f0f8ff;}#sk-container-id-4 div.sk-toggleable__content pre {margin: 0.2em;color: black;border-radius: 0.25em;background-color: #f0f8ff;}#sk-container-id-4 input.sk-toggleable__control:checked~div.sk-toggleable__content {max-height: 200px;max-width: 100%;overflow: auto;}#sk-container-id-4 input.sk-toggleable__control:checked~label.sk-toggleable__label-arrow:before {content: \"▾\";}#sk-container-id-4 div.sk-estimator input.sk-toggleable__control:checked~label.sk-toggleable__label {background-color: #d4ebff;}#sk-container-id-4 div.sk-label input.sk-toggleable__control:checked~label.sk-toggleable__label {background-color: #d4ebff;}#sk-container-id-4 input.sk-hidden--visually {border: 0;clip: rect(1px 1px 1px 1px);clip: rect(1px, 1px, 1px, 1px);height: 1px;margin: -1px;overflow: hidden;padding: 0;position: absolute;width: 1px;}#sk-container-id-4 div.sk-estimator {font-family: monospace;background-color: #f0f8ff;border: 1px dotted black;border-radius: 0.25em;box-sizing: border-box;margin-bottom: 0.5em;}#sk-container-id-4 div.sk-estimator:hover {background-color: #d4ebff;}#sk-container-id-4 div.sk-parallel-item::after {content: \"\";width: 100%;border-bottom: 1px solid gray;flex-grow: 1;}#sk-container-id-4 div.sk-label:hover label.sk-toggleable__label {background-color: #d4ebff;}#sk-container-id-4 div.sk-serial::before {content: \"\";position: absolute;border-left: 1px solid gray;box-sizing: border-box;top: 0;bottom: 0;left: 50%;z-index: 0;}#sk-container-id-4 div.sk-serial {display: flex;flex-direction: column;align-items: center;background-color: white;padding-right: 0.2em;padding-left: 0.2em;position: relative;}#sk-container-id-4 div.sk-item {position: relative;z-index: 1;}#sk-container-id-4 div.sk-parallel {display: flex;align-items: stretch;justify-content: center;background-color: white;position: relative;}#sk-container-id-4 div.sk-item::before, #sk-container-id-4 div.sk-parallel-item::before {content: \"\";position: absolute;border-left: 1px solid gray;box-sizing: border-box;top: 0;bottom: 0;left: 50%;z-index: -1;}#sk-container-id-4 div.sk-parallel-item {display: flex;flex-direction: column;z-index: 1;position: relative;background-color: white;}#sk-container-id-4 div.sk-parallel-item:first-child::after {align-self: flex-end;width: 50%;}#sk-container-id-4 div.sk-parallel-item:last-child::after {align-self: flex-start;width: 50%;}#sk-container-id-4 div.sk-parallel-item:only-child::after {width: 0;}#sk-container-id-4 div.sk-dashed-wrapped {border: 1px dashed gray;margin: 0 0.4em 0.5em 0.4em;box-sizing: border-box;padding-bottom: 0.4em;background-color: white;}#sk-container-id-4 div.sk-label label {font-family: monospace;font-weight: bold;display: inline-block;line-height: 1.2em;}#sk-container-id-4 div.sk-label-container {text-align: center;}#sk-container-id-4 div.sk-container {/* jupyter's `normalize.less` sets `[hidden] { display: none; }` but bootstrap.min.css set `[hidden] { display: none !important; }` so we also need the `!important` here to be able to override the default hidden behavior on the sphinx rendered scikit-learn.org. See: https://github.com/scikit-learn/scikit-learn/issues/21755 */display: inline-block !important;position: relative;}#sk-container-id-4 div.sk-text-repr-fallback {display: none;}</style><div id=\"sk-container-id-4\" class=\"sk-top-container\"><div class=\"sk-text-repr-fallback\"><pre>LinearDiscriminantAnalysis()</pre><b>In a Jupyter environment, please rerun this cell to show the HTML representation or trust the notebook. <br />On GitHub, the HTML representation is unable to render, please try loading this page with nbviewer.org.</b></div><div class=\"sk-container\" hidden><div class=\"sk-item\"><div class=\"sk-estimator sk-toggleable\"><input class=\"sk-toggleable__control sk-hidden--visually\" id=\"sk-estimator-id-4\" type=\"checkbox\" checked><label for=\"sk-estimator-id-4\" class=\"sk-toggleable__label sk-toggleable__label-arrow\">LinearDiscriminantAnalysis</label><div class=\"sk-toggleable__content\"><pre>LinearDiscriminantAnalysis()</pre></div></div></div></div></div>"
      ],
      "text/plain": [
       "LinearDiscriminantAnalysis()"
      ]
     },
     "execution_count": 72,
     "metadata": {},
     "output_type": "execute_result"
    }
   ],
   "source": [
    "clf_ldaa.fit(x_train,y_train)"
   ]
  },
  {
   "cell_type": "code",
   "execution_count": 73,
   "id": "245cbf0e",
   "metadata": {},
   "outputs": [
    {
     "name": "stdout",
     "output_type": "stream",
     "text": [
      "[-2811.86709864] [[-0.03275908  0.12271493  0.00502417 -0.23110388 -0.18305432  0.85563467\n",
      "   0.08187329 -0.49604621  0.49604621  0.49148737 -1.48039451  0.        ]]\n"
     ]
    }
   ],
   "source": [
    "print(clf_ldaa.intercept_,clf_ldaa.coef_)"
   ]
  },
  {
   "cell_type": "code",
   "execution_count": 74,
   "id": "7e75fd18",
   "metadata": {},
   "outputs": [],
   "source": [
    "y_test_pred=clf_ldaa.predict(x_test)"
   ]
  },
  {
   "cell_type": "code",
   "execution_count": 75,
   "id": "c5854fed",
   "metadata": {},
   "outputs": [],
   "source": [
    "y_train_pred=clf_ldaa.predict(x_train)"
   ]
  },
  {
   "cell_type": "code",
   "execution_count": 76,
   "id": "e3979c9d",
   "metadata": {},
   "outputs": [],
   "source": [
    "from sklearn.metrics import r2_score\n"
   ]
  },
  {
   "cell_type": "code",
   "execution_count": 77,
   "id": "3e52814a",
   "metadata": {},
   "outputs": [
    {
     "data": {
      "text/plain": [
       "-0.21875000000000067"
      ]
     },
     "execution_count": 77,
     "metadata": {},
     "output_type": "execute_result"
    }
   ],
   "source": [
    "r2_score(y_test, y_test_pred)\n"
   ]
  },
  {
   "cell_type": "code",
   "execution_count": 78,
   "id": "90661714",
   "metadata": {},
   "outputs": [
    {
     "data": {
      "text/plain": [
       "-0.2252964426877473"
      ]
     },
     "execution_count": 78,
     "metadata": {},
     "output_type": "execute_result"
    }
   ],
   "source": [
    "r2_score(y_train,y_train_pred)"
   ]
  },
  {
   "cell_type": "code",
   "execution_count": 79,
   "id": "88a660b3",
   "metadata": {},
   "outputs": [],
   "source": [
    "from sklearn.metrics import accuracy_score,confusion_matrix,precision_score\n"
   ]
  },
  {
   "cell_type": "code",
   "execution_count": 80,
   "id": "6abca518",
   "metadata": {},
   "outputs": [
    {
     "data": {
      "text/plain": [
       "array([[ 0, 14],\n",
       "       [ 0, 64]], dtype=int64)"
      ]
     },
     "execution_count": 80,
     "metadata": {},
     "output_type": "execute_result"
    }
   ],
   "source": [
    "confusion_matrix(y_test,clf_ldaa.predict(x_test))"
   ]
  },
  {
   "cell_type": "code",
   "execution_count": 81,
   "id": "781bcc75",
   "metadata": {},
   "outputs": [
    {
     "data": {
      "text/plain": [
       "0.8205128205128205"
      ]
     },
     "execution_count": 81,
     "metadata": {},
     "output_type": "execute_result"
    }
   ],
   "source": [
    "precision_score(y_test, y_test_pred)\n"
   ]
  },
  {
   "cell_type": "code",
   "execution_count": 82,
   "id": "6c219efe",
   "metadata": {},
   "outputs": [
    {
     "data": {
      "text/plain": [
       "0.8205128205128205"
      ]
     },
     "execution_count": 82,
     "metadata": {},
     "output_type": "execute_result"
    }
   ],
   "source": [
    "accuracy_score(y_test,clf_ldaa.predict(x_test))"
   ]
  },
  {
   "cell_type": "markdown",
   "id": "d5a38136",
   "metadata": {},
   "source": [
    "# KNN"
   ]
  },
  {
   "cell_type": "code",
   "execution_count": 83,
   "id": "5876d7b0",
   "metadata": {},
   "outputs": [
    {
     "data": {
      "text/html": [
       "<div>\n",
       "<style scoped>\n",
       "    .dataframe tbody tr th:only-of-type {\n",
       "        vertical-align: middle;\n",
       "    }\n",
       "\n",
       "    .dataframe tbody tr th {\n",
       "        vertical-align: top;\n",
       "    }\n",
       "\n",
       "    .dataframe thead th {\n",
       "        text-align: right;\n",
       "    }\n",
       "</style>\n",
       "<table border=\"1\" class=\"dataframe\">\n",
       "  <thead>\n",
       "    <tr style=\"text-align: right;\">\n",
       "      <th></th>\n",
       "      <th>Age</th>\n",
       "      <th>Family size</th>\n",
       "      <th>Pin code</th>\n",
       "      <th>Gender_Male</th>\n",
       "      <th>Marital Status_Married</th>\n",
       "      <th>Marital Status_Prefer not to say</th>\n",
       "      <th>Marital Status_Single</th>\n",
       "      <th>Occupation_Employee</th>\n",
       "      <th>Occupation_Student</th>\n",
       "      <th>Educational Qualifications_Post Graduate</th>\n",
       "      <th>Educational Qualifications_Uneducated</th>\n",
       "      <th>Feedback_Negative</th>\n",
       "      <th>Feedback_Positive</th>\n",
       "    </tr>\n",
       "  </thead>\n",
       "  <tbody>\n",
       "    <tr>\n",
       "      <th>0</th>\n",
       "      <td>20</td>\n",
       "      <td>4</td>\n",
       "      <td>560001</td>\n",
       "      <td>0</td>\n",
       "      <td>0</td>\n",
       "      <td>0</td>\n",
       "      <td>1</td>\n",
       "      <td>0</td>\n",
       "      <td>1</td>\n",
       "      <td>1</td>\n",
       "      <td>0</td>\n",
       "      <td>0</td>\n",
       "      <td>1</td>\n",
       "    </tr>\n",
       "    <tr>\n",
       "      <th>1</th>\n",
       "      <td>24</td>\n",
       "      <td>3</td>\n",
       "      <td>560009</td>\n",
       "      <td>0</td>\n",
       "      <td>0</td>\n",
       "      <td>0</td>\n",
       "      <td>1</td>\n",
       "      <td>0</td>\n",
       "      <td>1</td>\n",
       "      <td>0</td>\n",
       "      <td>0</td>\n",
       "      <td>0</td>\n",
       "      <td>1</td>\n",
       "    </tr>\n",
       "    <tr>\n",
       "      <th>2</th>\n",
       "      <td>22</td>\n",
       "      <td>3</td>\n",
       "      <td>560017</td>\n",
       "      <td>1</td>\n",
       "      <td>0</td>\n",
       "      <td>0</td>\n",
       "      <td>1</td>\n",
       "      <td>0</td>\n",
       "      <td>1</td>\n",
       "      <td>1</td>\n",
       "      <td>0</td>\n",
       "      <td>1</td>\n",
       "      <td>0</td>\n",
       "    </tr>\n",
       "    <tr>\n",
       "      <th>3</th>\n",
       "      <td>22</td>\n",
       "      <td>6</td>\n",
       "      <td>560019</td>\n",
       "      <td>0</td>\n",
       "      <td>0</td>\n",
       "      <td>0</td>\n",
       "      <td>1</td>\n",
       "      <td>0</td>\n",
       "      <td>1</td>\n",
       "      <td>0</td>\n",
       "      <td>0</td>\n",
       "      <td>0</td>\n",
       "      <td>1</td>\n",
       "    </tr>\n",
       "    <tr>\n",
       "      <th>4</th>\n",
       "      <td>22</td>\n",
       "      <td>4</td>\n",
       "      <td>560010</td>\n",
       "      <td>1</td>\n",
       "      <td>0</td>\n",
       "      <td>0</td>\n",
       "      <td>1</td>\n",
       "      <td>0</td>\n",
       "      <td>1</td>\n",
       "      <td>1</td>\n",
       "      <td>0</td>\n",
       "      <td>0</td>\n",
       "      <td>1</td>\n",
       "    </tr>\n",
       "  </tbody>\n",
       "</table>\n",
       "</div>"
      ],
      "text/plain": [
       "   Age  Family size  Pin code  Gender_Male  Marital Status_Married  \\\n",
       "0   20            4    560001            0                       0   \n",
       "1   24            3    560009            0                       0   \n",
       "2   22            3    560017            1                       0   \n",
       "3   22            6    560019            0                       0   \n",
       "4   22            4    560010            1                       0   \n",
       "\n",
       "   Marital Status_Prefer not to say  Marital Status_Single  \\\n",
       "0                                 0                      1   \n",
       "1                                 0                      1   \n",
       "2                                 0                      1   \n",
       "3                                 0                      1   \n",
       "4                                 0                      1   \n",
       "\n",
       "   Occupation_Employee  Occupation_Student  \\\n",
       "0                    0                   1   \n",
       "1                    0                   1   \n",
       "2                    0                   1   \n",
       "3                    0                   1   \n",
       "4                    0                   1   \n",
       "\n",
       "   Educational Qualifications_Post Graduate  \\\n",
       "0                                         1   \n",
       "1                                         0   \n",
       "2                                         1   \n",
       "3                                         0   \n",
       "4                                         1   \n",
       "\n",
       "   Educational Qualifications_Uneducated  Feedback_Negative   \\\n",
       "0                                      0                   0   \n",
       "1                                      0                   0   \n",
       "2                                      0                   1   \n",
       "3                                      0                   0   \n",
       "4                                      0                   0   \n",
       "\n",
       "   Feedback_Positive  \n",
       "0                  1  \n",
       "1                  1  \n",
       "2                  0  \n",
       "3                  1  \n",
       "4                  1  "
      ]
     },
     "execution_count": 83,
     "metadata": {},
     "output_type": "execute_result"
    }
   ],
   "source": [
    "df.head()"
   ]
  },
  {
   "cell_type": "code",
   "execution_count": 84,
   "id": "d36067d3",
   "metadata": {},
   "outputs": [],
   "source": [
    "x_multi=df.drop(\"Feedback_Positive\",axis=1)"
   ]
  },
  {
   "cell_type": "code",
   "execution_count": 85,
   "id": "0eeb938a",
   "metadata": {},
   "outputs": [],
   "source": [
    "y_multi=df[\"Feedback_Positive\"]"
   ]
  },
  {
   "cell_type": "code",
   "execution_count": 86,
   "id": "b882ac97",
   "metadata": {},
   "outputs": [],
   "source": [
    "x_train,x_test,y_train,y_test=train_test_split(x_multi,y_multi,test_size=0.2,random_state=0)"
   ]
  },
  {
   "cell_type": "code",
   "execution_count": 87,
   "id": "abfe04d7",
   "metadata": {},
   "outputs": [
    {
     "name": "stdout",
     "output_type": "stream",
     "text": [
      "(310, 12) (78, 12) (310,) (78,)\n"
     ]
    }
   ],
   "source": [
    "print(x_train.shape,x_test.shape,y_train.shape,y_test.shape)"
   ]
  },
  {
   "cell_type": "code",
   "execution_count": 89,
   "id": "a13f0cfa",
   "metadata": {},
   "outputs": [],
   "source": [
    "from sklearn import preprocessing\n",
    "scaler=preprocessing.StandardScaler().fit(x_train)\n",
    "x_train_s=scaler.transform(x_train)"
   ]
  },
  {
   "cell_type": "code",
   "execution_count": 90,
   "id": "89dc6e06",
   "metadata": {},
   "outputs": [],
   "source": [
    "scaler=preprocessing.StandardScaler().fit(x_test)\n",
    "x_test_s=scaler.transform(x_test)"
   ]
  },
  {
   "cell_type": "code",
   "execution_count": 91,
   "id": "49c98c9c",
   "metadata": {},
   "outputs": [
    {
     "data": {
      "text/html": [
       "<style>#sk-container-id-5 {color: black;}#sk-container-id-5 pre{padding: 0;}#sk-container-id-5 div.sk-toggleable {background-color: white;}#sk-container-id-5 label.sk-toggleable__label {cursor: pointer;display: block;width: 100%;margin-bottom: 0;padding: 0.3em;box-sizing: border-box;text-align: center;}#sk-container-id-5 label.sk-toggleable__label-arrow:before {content: \"▸\";float: left;margin-right: 0.25em;color: #696969;}#sk-container-id-5 label.sk-toggleable__label-arrow:hover:before {color: black;}#sk-container-id-5 div.sk-estimator:hover label.sk-toggleable__label-arrow:before {color: black;}#sk-container-id-5 div.sk-toggleable__content {max-height: 0;max-width: 0;overflow: hidden;text-align: left;background-color: #f0f8ff;}#sk-container-id-5 div.sk-toggleable__content pre {margin: 0.2em;color: black;border-radius: 0.25em;background-color: #f0f8ff;}#sk-container-id-5 input.sk-toggleable__control:checked~div.sk-toggleable__content {max-height: 200px;max-width: 100%;overflow: auto;}#sk-container-id-5 input.sk-toggleable__control:checked~label.sk-toggleable__label-arrow:before {content: \"▾\";}#sk-container-id-5 div.sk-estimator input.sk-toggleable__control:checked~label.sk-toggleable__label {background-color: #d4ebff;}#sk-container-id-5 div.sk-label input.sk-toggleable__control:checked~label.sk-toggleable__label {background-color: #d4ebff;}#sk-container-id-5 input.sk-hidden--visually {border: 0;clip: rect(1px 1px 1px 1px);clip: rect(1px, 1px, 1px, 1px);height: 1px;margin: -1px;overflow: hidden;padding: 0;position: absolute;width: 1px;}#sk-container-id-5 div.sk-estimator {font-family: monospace;background-color: #f0f8ff;border: 1px dotted black;border-radius: 0.25em;box-sizing: border-box;margin-bottom: 0.5em;}#sk-container-id-5 div.sk-estimator:hover {background-color: #d4ebff;}#sk-container-id-5 div.sk-parallel-item::after {content: \"\";width: 100%;border-bottom: 1px solid gray;flex-grow: 1;}#sk-container-id-5 div.sk-label:hover label.sk-toggleable__label {background-color: #d4ebff;}#sk-container-id-5 div.sk-serial::before {content: \"\";position: absolute;border-left: 1px solid gray;box-sizing: border-box;top: 0;bottom: 0;left: 50%;z-index: 0;}#sk-container-id-5 div.sk-serial {display: flex;flex-direction: column;align-items: center;background-color: white;padding-right: 0.2em;padding-left: 0.2em;position: relative;}#sk-container-id-5 div.sk-item {position: relative;z-index: 1;}#sk-container-id-5 div.sk-parallel {display: flex;align-items: stretch;justify-content: center;background-color: white;position: relative;}#sk-container-id-5 div.sk-item::before, #sk-container-id-5 div.sk-parallel-item::before {content: \"\";position: absolute;border-left: 1px solid gray;box-sizing: border-box;top: 0;bottom: 0;left: 50%;z-index: -1;}#sk-container-id-5 div.sk-parallel-item {display: flex;flex-direction: column;z-index: 1;position: relative;background-color: white;}#sk-container-id-5 div.sk-parallel-item:first-child::after {align-self: flex-end;width: 50%;}#sk-container-id-5 div.sk-parallel-item:last-child::after {align-self: flex-start;width: 50%;}#sk-container-id-5 div.sk-parallel-item:only-child::after {width: 0;}#sk-container-id-5 div.sk-dashed-wrapped {border: 1px dashed gray;margin: 0 0.4em 0.5em 0.4em;box-sizing: border-box;padding-bottom: 0.4em;background-color: white;}#sk-container-id-5 div.sk-label label {font-family: monospace;font-weight: bold;display: inline-block;line-height: 1.2em;}#sk-container-id-5 div.sk-label-container {text-align: center;}#sk-container-id-5 div.sk-container {/* jupyter's `normalize.less` sets `[hidden] { display: none; }` but bootstrap.min.css set `[hidden] { display: none !important; }` so we also need the `!important` here to be able to override the default hidden behavior on the sphinx rendered scikit-learn.org. See: https://github.com/scikit-learn/scikit-learn/issues/21755 */display: inline-block !important;position: relative;}#sk-container-id-5 div.sk-text-repr-fallback {display: none;}</style><div id=\"sk-container-id-5\" class=\"sk-top-container\"><div class=\"sk-text-repr-fallback\"><pre>KNeighborsClassifier(n_neighbors=1)</pre><b>In a Jupyter environment, please rerun this cell to show the HTML representation or trust the notebook. <br />On GitHub, the HTML representation is unable to render, please try loading this page with nbviewer.org.</b></div><div class=\"sk-container\" hidden><div class=\"sk-item\"><div class=\"sk-estimator sk-toggleable\"><input class=\"sk-toggleable__control sk-hidden--visually\" id=\"sk-estimator-id-5\" type=\"checkbox\" checked><label for=\"sk-estimator-id-5\" class=\"sk-toggleable__label sk-toggleable__label-arrow\">KNeighborsClassifier</label><div class=\"sk-toggleable__content\"><pre>KNeighborsClassifier(n_neighbors=1)</pre></div></div></div></div></div>"
      ],
      "text/plain": [
       "KNeighborsClassifier(n_neighbors=1)"
      ]
     },
     "execution_count": 91,
     "metadata": {},
     "output_type": "execute_result"
    }
   ],
   "source": [
    "from sklearn.neighbors import KNeighborsClassifier\n",
    "clf_knn_1=KNeighborsClassifier(n_neighbors=1)\n",
    "clf_knn_1.fit(x_train,y_train)\n"
   ]
  },
  {
   "cell_type": "code",
   "execution_count": 92,
   "id": "81315d17",
   "metadata": {},
   "outputs": [
    {
     "name": "stdout",
     "output_type": "stream",
     "text": [
      "[[ 7  7]\n",
      " [ 6 58]]\n"
     ]
    },
    {
     "name": "stderr",
     "output_type": "stream",
     "text": [
      "C:\\Users\\vasala harinadha\\anaconda3\\Lib\\site-packages\\sklearn\\base.py:464: UserWarning: X does not have valid feature names, but KNeighborsClassifier was fitted with feature names\n",
      "  warnings.warn(\n"
     ]
    }
   ],
   "source": [
    "x_test_contiguous = np.ascontiguousarray(x_test)\n",
    "y_test_contiguous = np.ascontiguousarray(y_test)\n",
    "\n",
    "# Generate the confusion matrix\n",
    "conf_matrix = confusion_matrix(y_test_contiguous, clf_knn_1.predict(x_test_contiguous))\n",
    "\n",
    "print(conf_matrix)"
   ]
  },
  {
   "cell_type": "code",
   "execution_count": 93,
   "id": "eb92bc66",
   "metadata": {},
   "outputs": [],
   "source": [
    "from sklearn.model_selection import GridSearchCV\n",
    "params={'n_neighbors':[1,2,3,4,5,6,7,8,9,10]}\n",
    "grid_search_cv=GridSearchCV(KNeighborsClassifier(),params)"
   ]
  },
  {
   "cell_type": "code",
   "execution_count": 94,
   "id": "66a1b0d1",
   "metadata": {
    "scrolled": false
   },
   "outputs": [],
   "source": [
    "grid_search_cv.fit(x_train_s,y_train)\n",
    "grid_search_cv.best_params_\n",
    "optimised_knn=grid_search_cv.best_estimator_"
   ]
  },
  {
   "cell_type": "code",
   "execution_count": 95,
   "id": "78a22e6b",
   "metadata": {},
   "outputs": [],
   "source": [
    "y_test_pred=optimised_knn.predict(x_test_s)"
   ]
  },
  {
   "cell_type": "code",
   "execution_count": 96,
   "id": "1670a133",
   "metadata": {},
   "outputs": [
    {
     "data": {
      "text/plain": [
       "array([1, 0, 0, 1, 1, 1, 1, 1, 1, 1, 1, 1, 1, 0, 0, 1, 1, 1, 1, 1, 1, 1,\n",
       "       1, 1, 1, 1, 1, 1, 1, 1, 1, 0, 1, 1, 1, 1, 1, 1, 0, 1, 1, 1, 1, 1,\n",
       "       1, 1, 1, 0, 1, 1, 1, 1, 0, 0, 1, 1, 0, 1, 0, 1, 1, 1, 1, 1, 1, 1,\n",
       "       1, 0, 1, 1, 1, 1, 1, 1, 0, 1, 1, 1])"
      ]
     },
     "execution_count": 96,
     "metadata": {},
     "output_type": "execute_result"
    }
   ],
   "source": [
    "y_test_pred"
   ]
  },
  {
   "cell_type": "code",
   "execution_count": 157,
   "id": "a45a9ca9",
   "metadata": {},
   "outputs": [
    {
     "data": {
      "text/plain": [
       "array([[11,  3],\n",
       "       [ 6, 58]], dtype=int64)"
      ]
     },
     "execution_count": 157,
     "metadata": {},
     "output_type": "execute_result"
    }
   ],
   "source": [
    "confusion_matrix(y_test,y_test_pred)"
   ]
  },
  {
   "cell_type": "code",
   "execution_count": 97,
   "id": "10e1b2f7",
   "metadata": {},
   "outputs": [
    {
     "data": {
      "text/plain": [
       "0.9871794871794872"
      ]
     },
     "execution_count": 97,
     "metadata": {},
     "output_type": "execute_result"
    }
   ],
   "source": [
    "accuracy_score(y_test,y_test_pred)"
   ]
  },
  {
   "cell_type": "markdown",
   "id": "3f453cda",
   "metadata": {},
   "source": [
    "# Decision Tree Classifier"
   ]
  },
  {
   "cell_type": "code",
   "execution_count": 98,
   "id": "c7242fbc",
   "metadata": {},
   "outputs": [
    {
     "data": {
      "text/html": [
       "<div>\n",
       "<style scoped>\n",
       "    .dataframe tbody tr th:only-of-type {\n",
       "        vertical-align: middle;\n",
       "    }\n",
       "\n",
       "    .dataframe tbody tr th {\n",
       "        vertical-align: top;\n",
       "    }\n",
       "\n",
       "    .dataframe thead th {\n",
       "        text-align: right;\n",
       "    }\n",
       "</style>\n",
       "<table border=\"1\" class=\"dataframe\">\n",
       "  <thead>\n",
       "    <tr style=\"text-align: right;\">\n",
       "      <th></th>\n",
       "      <th>Age</th>\n",
       "      <th>Family size</th>\n",
       "      <th>Pin code</th>\n",
       "      <th>Gender_Male</th>\n",
       "      <th>Marital Status_Married</th>\n",
       "      <th>Marital Status_Prefer not to say</th>\n",
       "      <th>Marital Status_Single</th>\n",
       "      <th>Occupation_Employee</th>\n",
       "      <th>Occupation_Student</th>\n",
       "      <th>Educational Qualifications_Post Graduate</th>\n",
       "      <th>Educational Qualifications_Uneducated</th>\n",
       "      <th>Feedback_Negative</th>\n",
       "      <th>Feedback_Positive</th>\n",
       "    </tr>\n",
       "  </thead>\n",
       "  <tbody>\n",
       "    <tr>\n",
       "      <th>0</th>\n",
       "      <td>20</td>\n",
       "      <td>4</td>\n",
       "      <td>560001</td>\n",
       "      <td>0</td>\n",
       "      <td>0</td>\n",
       "      <td>0</td>\n",
       "      <td>1</td>\n",
       "      <td>0</td>\n",
       "      <td>1</td>\n",
       "      <td>1</td>\n",
       "      <td>0</td>\n",
       "      <td>0</td>\n",
       "      <td>1</td>\n",
       "    </tr>\n",
       "    <tr>\n",
       "      <th>1</th>\n",
       "      <td>24</td>\n",
       "      <td>3</td>\n",
       "      <td>560009</td>\n",
       "      <td>0</td>\n",
       "      <td>0</td>\n",
       "      <td>0</td>\n",
       "      <td>1</td>\n",
       "      <td>0</td>\n",
       "      <td>1</td>\n",
       "      <td>0</td>\n",
       "      <td>0</td>\n",
       "      <td>0</td>\n",
       "      <td>1</td>\n",
       "    </tr>\n",
       "    <tr>\n",
       "      <th>2</th>\n",
       "      <td>22</td>\n",
       "      <td>3</td>\n",
       "      <td>560017</td>\n",
       "      <td>1</td>\n",
       "      <td>0</td>\n",
       "      <td>0</td>\n",
       "      <td>1</td>\n",
       "      <td>0</td>\n",
       "      <td>1</td>\n",
       "      <td>1</td>\n",
       "      <td>0</td>\n",
       "      <td>1</td>\n",
       "      <td>0</td>\n",
       "    </tr>\n",
       "    <tr>\n",
       "      <th>3</th>\n",
       "      <td>22</td>\n",
       "      <td>6</td>\n",
       "      <td>560019</td>\n",
       "      <td>0</td>\n",
       "      <td>0</td>\n",
       "      <td>0</td>\n",
       "      <td>1</td>\n",
       "      <td>0</td>\n",
       "      <td>1</td>\n",
       "      <td>0</td>\n",
       "      <td>0</td>\n",
       "      <td>0</td>\n",
       "      <td>1</td>\n",
       "    </tr>\n",
       "    <tr>\n",
       "      <th>4</th>\n",
       "      <td>22</td>\n",
       "      <td>4</td>\n",
       "      <td>560010</td>\n",
       "      <td>1</td>\n",
       "      <td>0</td>\n",
       "      <td>0</td>\n",
       "      <td>1</td>\n",
       "      <td>0</td>\n",
       "      <td>1</td>\n",
       "      <td>1</td>\n",
       "      <td>0</td>\n",
       "      <td>0</td>\n",
       "      <td>1</td>\n",
       "    </tr>\n",
       "  </tbody>\n",
       "</table>\n",
       "</div>"
      ],
      "text/plain": [
       "   Age  Family size  Pin code  Gender_Male  Marital Status_Married  \\\n",
       "0   20            4    560001            0                       0   \n",
       "1   24            3    560009            0                       0   \n",
       "2   22            3    560017            1                       0   \n",
       "3   22            6    560019            0                       0   \n",
       "4   22            4    560010            1                       0   \n",
       "\n",
       "   Marital Status_Prefer not to say  Marital Status_Single  \\\n",
       "0                                 0                      1   \n",
       "1                                 0                      1   \n",
       "2                                 0                      1   \n",
       "3                                 0                      1   \n",
       "4                                 0                      1   \n",
       "\n",
       "   Occupation_Employee  Occupation_Student  \\\n",
       "0                    0                   1   \n",
       "1                    0                   1   \n",
       "2                    0                   1   \n",
       "3                    0                   1   \n",
       "4                    0                   1   \n",
       "\n",
       "   Educational Qualifications_Post Graduate  \\\n",
       "0                                         1   \n",
       "1                                         0   \n",
       "2                                         1   \n",
       "3                                         0   \n",
       "4                                         1   \n",
       "\n",
       "   Educational Qualifications_Uneducated  Feedback_Negative   \\\n",
       "0                                      0                   0   \n",
       "1                                      0                   0   \n",
       "2                                      0                   1   \n",
       "3                                      0                   0   \n",
       "4                                      0                   0   \n",
       "\n",
       "   Feedback_Positive  \n",
       "0                  1  \n",
       "1                  1  \n",
       "2                  0  \n",
       "3                  1  \n",
       "4                  1  "
      ]
     },
     "execution_count": 98,
     "metadata": {},
     "output_type": "execute_result"
    }
   ],
   "source": [
    "df.head()"
   ]
  },
  {
   "cell_type": "code",
   "execution_count": 100,
   "id": "72603dcb",
   "metadata": {},
   "outputs": [],
   "source": [
    "x=df.loc[:,df.columns!='Gender_Male']"
   ]
  },
  {
   "cell_type": "code",
   "execution_count": 101,
   "id": "9b81758b",
   "metadata": {},
   "outputs": [],
   "source": [
    "y = df[\"Feedback_Positive\"]\n"
   ]
  },
  {
   "cell_type": "code",
   "execution_count": 102,
   "id": "832b45f6",
   "metadata": {},
   "outputs": [
    {
     "data": {
      "text/html": [
       "<div>\n",
       "<style scoped>\n",
       "    .dataframe tbody tr th:only-of-type {\n",
       "        vertical-align: middle;\n",
       "    }\n",
       "\n",
       "    .dataframe tbody tr th {\n",
       "        vertical-align: top;\n",
       "    }\n",
       "\n",
       "    .dataframe thead th {\n",
       "        text-align: right;\n",
       "    }\n",
       "</style>\n",
       "<table border=\"1\" class=\"dataframe\">\n",
       "  <thead>\n",
       "    <tr style=\"text-align: right;\">\n",
       "      <th></th>\n",
       "      <th>Age</th>\n",
       "      <th>Family size</th>\n",
       "      <th>Pin code</th>\n",
       "      <th>Marital Status_Married</th>\n",
       "      <th>Marital Status_Prefer not to say</th>\n",
       "      <th>Marital Status_Single</th>\n",
       "      <th>Occupation_Employee</th>\n",
       "      <th>Occupation_Student</th>\n",
       "      <th>Educational Qualifications_Post Graduate</th>\n",
       "      <th>Educational Qualifications_Uneducated</th>\n",
       "      <th>Feedback_Negative</th>\n",
       "      <th>Feedback_Positive</th>\n",
       "    </tr>\n",
       "  </thead>\n",
       "  <tbody>\n",
       "    <tr>\n",
       "      <th>0</th>\n",
       "      <td>20</td>\n",
       "      <td>4</td>\n",
       "      <td>560001</td>\n",
       "      <td>0</td>\n",
       "      <td>0</td>\n",
       "      <td>1</td>\n",
       "      <td>0</td>\n",
       "      <td>1</td>\n",
       "      <td>1</td>\n",
       "      <td>0</td>\n",
       "      <td>0</td>\n",
       "      <td>1</td>\n",
       "    </tr>\n",
       "    <tr>\n",
       "      <th>1</th>\n",
       "      <td>24</td>\n",
       "      <td>3</td>\n",
       "      <td>560009</td>\n",
       "      <td>0</td>\n",
       "      <td>0</td>\n",
       "      <td>1</td>\n",
       "      <td>0</td>\n",
       "      <td>1</td>\n",
       "      <td>0</td>\n",
       "      <td>0</td>\n",
       "      <td>0</td>\n",
       "      <td>1</td>\n",
       "    </tr>\n",
       "    <tr>\n",
       "      <th>2</th>\n",
       "      <td>22</td>\n",
       "      <td>3</td>\n",
       "      <td>560017</td>\n",
       "      <td>0</td>\n",
       "      <td>0</td>\n",
       "      <td>1</td>\n",
       "      <td>0</td>\n",
       "      <td>1</td>\n",
       "      <td>1</td>\n",
       "      <td>0</td>\n",
       "      <td>1</td>\n",
       "      <td>0</td>\n",
       "    </tr>\n",
       "    <tr>\n",
       "      <th>3</th>\n",
       "      <td>22</td>\n",
       "      <td>6</td>\n",
       "      <td>560019</td>\n",
       "      <td>0</td>\n",
       "      <td>0</td>\n",
       "      <td>1</td>\n",
       "      <td>0</td>\n",
       "      <td>1</td>\n",
       "      <td>0</td>\n",
       "      <td>0</td>\n",
       "      <td>0</td>\n",
       "      <td>1</td>\n",
       "    </tr>\n",
       "    <tr>\n",
       "      <th>4</th>\n",
       "      <td>22</td>\n",
       "      <td>4</td>\n",
       "      <td>560010</td>\n",
       "      <td>0</td>\n",
       "      <td>0</td>\n",
       "      <td>1</td>\n",
       "      <td>0</td>\n",
       "      <td>1</td>\n",
       "      <td>1</td>\n",
       "      <td>0</td>\n",
       "      <td>0</td>\n",
       "      <td>1</td>\n",
       "    </tr>\n",
       "  </tbody>\n",
       "</table>\n",
       "</div>"
      ],
      "text/plain": [
       "   Age  Family size  Pin code  Marital Status_Married  \\\n",
       "0   20            4    560001                       0   \n",
       "1   24            3    560009                       0   \n",
       "2   22            3    560017                       0   \n",
       "3   22            6    560019                       0   \n",
       "4   22            4    560010                       0   \n",
       "\n",
       "   Marital Status_Prefer not to say  Marital Status_Single  \\\n",
       "0                                 0                      1   \n",
       "1                                 0                      1   \n",
       "2                                 0                      1   \n",
       "3                                 0                      1   \n",
       "4                                 0                      1   \n",
       "\n",
       "   Occupation_Employee  Occupation_Student  \\\n",
       "0                    0                   1   \n",
       "1                    0                   1   \n",
       "2                    0                   1   \n",
       "3                    0                   1   \n",
       "4                    0                   1   \n",
       "\n",
       "   Educational Qualifications_Post Graduate  \\\n",
       "0                                         1   \n",
       "1                                         0   \n",
       "2                                         1   \n",
       "3                                         0   \n",
       "4                                         1   \n",
       "\n",
       "   Educational Qualifications_Uneducated  Feedback_Negative   \\\n",
       "0                                      0                   0   \n",
       "1                                      0                   0   \n",
       "2                                      0                   1   \n",
       "3                                      0                   0   \n",
       "4                                      0                   0   \n",
       "\n",
       "   Feedback_Positive  \n",
       "0                  1  \n",
       "1                  1  \n",
       "2                  0  \n",
       "3                  1  \n",
       "4                  1  "
      ]
     },
     "execution_count": 102,
     "metadata": {},
     "output_type": "execute_result"
    }
   ],
   "source": [
    "type(x)\n",
    "x.head()"
   ]
  },
  {
   "cell_type": "code",
   "execution_count": 103,
   "id": "947851e5",
   "metadata": {},
   "outputs": [],
   "source": [
    "from sklearn.model_selection import train_test_split"
   ]
  },
  {
   "cell_type": "code",
   "execution_count": 104,
   "id": "78714fa6",
   "metadata": {},
   "outputs": [],
   "source": [
    "x_train,x_test,y_train,y_test=train_test_split(x,y,test_size=0.2,random_state=0)"
   ]
  },
  {
   "cell_type": "code",
   "execution_count": 105,
   "id": "a3b29f03",
   "metadata": {},
   "outputs": [
    {
     "data": {
      "text/html": [
       "<div>\n",
       "<style scoped>\n",
       "    .dataframe tbody tr th:only-of-type {\n",
       "        vertical-align: middle;\n",
       "    }\n",
       "\n",
       "    .dataframe tbody tr th {\n",
       "        vertical-align: top;\n",
       "    }\n",
       "\n",
       "    .dataframe thead th {\n",
       "        text-align: right;\n",
       "    }\n",
       "</style>\n",
       "<table border=\"1\" class=\"dataframe\">\n",
       "  <thead>\n",
       "    <tr style=\"text-align: right;\">\n",
       "      <th></th>\n",
       "      <th>Age</th>\n",
       "      <th>Family size</th>\n",
       "      <th>Pin code</th>\n",
       "      <th>Marital Status_Married</th>\n",
       "      <th>Marital Status_Prefer not to say</th>\n",
       "      <th>Marital Status_Single</th>\n",
       "      <th>Occupation_Employee</th>\n",
       "      <th>Occupation_Student</th>\n",
       "      <th>Educational Qualifications_Post Graduate</th>\n",
       "      <th>Educational Qualifications_Uneducated</th>\n",
       "      <th>Feedback_Negative</th>\n",
       "      <th>Feedback_Positive</th>\n",
       "    </tr>\n",
       "  </thead>\n",
       "  <tbody>\n",
       "    <tr>\n",
       "      <th>54</th>\n",
       "      <td>22</td>\n",
       "      <td>3</td>\n",
       "      <td>560085</td>\n",
       "      <td>0</td>\n",
       "      <td>0</td>\n",
       "      <td>1</td>\n",
       "      <td>0</td>\n",
       "      <td>1</td>\n",
       "      <td>1</td>\n",
       "      <td>0</td>\n",
       "      <td>0</td>\n",
       "      <td>1</td>\n",
       "    </tr>\n",
       "    <tr>\n",
       "      <th>124</th>\n",
       "      <td>24</td>\n",
       "      <td>6</td>\n",
       "      <td>560002</td>\n",
       "      <td>1</td>\n",
       "      <td>0</td>\n",
       "      <td>0</td>\n",
       "      <td>1</td>\n",
       "      <td>0</td>\n",
       "      <td>1</td>\n",
       "      <td>0</td>\n",
       "      <td>1</td>\n",
       "      <td>0</td>\n",
       "    </tr>\n",
       "    <tr>\n",
       "      <th>263</th>\n",
       "      <td>23</td>\n",
       "      <td>3</td>\n",
       "      <td>560020</td>\n",
       "      <td>0</td>\n",
       "      <td>1</td>\n",
       "      <td>0</td>\n",
       "      <td>1</td>\n",
       "      <td>0</td>\n",
       "      <td>0</td>\n",
       "      <td>0</td>\n",
       "      <td>1</td>\n",
       "      <td>0</td>\n",
       "    </tr>\n",
       "    <tr>\n",
       "      <th>175</th>\n",
       "      <td>23</td>\n",
       "      <td>6</td>\n",
       "      <td>560017</td>\n",
       "      <td>0</td>\n",
       "      <td>0</td>\n",
       "      <td>1</td>\n",
       "      <td>1</td>\n",
       "      <td>0</td>\n",
       "      <td>0</td>\n",
       "      <td>0</td>\n",
       "      <td>0</td>\n",
       "      <td>1</td>\n",
       "    </tr>\n",
       "    <tr>\n",
       "      <th>282</th>\n",
       "      <td>23</td>\n",
       "      <td>4</td>\n",
       "      <td>560080</td>\n",
       "      <td>0</td>\n",
       "      <td>0</td>\n",
       "      <td>1</td>\n",
       "      <td>0</td>\n",
       "      <td>1</td>\n",
       "      <td>0</td>\n",
       "      <td>0</td>\n",
       "      <td>0</td>\n",
       "      <td>1</td>\n",
       "    </tr>\n",
       "  </tbody>\n",
       "</table>\n",
       "</div>"
      ],
      "text/plain": [
       "     Age  Family size  Pin code  Marital Status_Married  \\\n",
       "54    22            3    560085                       0   \n",
       "124   24            6    560002                       1   \n",
       "263   23            3    560020                       0   \n",
       "175   23            6    560017                       0   \n",
       "282   23            4    560080                       0   \n",
       "\n",
       "     Marital Status_Prefer not to say  Marital Status_Single  \\\n",
       "54                                  0                      1   \n",
       "124                                 0                      0   \n",
       "263                                 1                      0   \n",
       "175                                 0                      1   \n",
       "282                                 0                      1   \n",
       "\n",
       "     Occupation_Employee  Occupation_Student  \\\n",
       "54                     0                   1   \n",
       "124                    1                   0   \n",
       "263                    1                   0   \n",
       "175                    1                   0   \n",
       "282                    0                   1   \n",
       "\n",
       "     Educational Qualifications_Post Graduate  \\\n",
       "54                                          1   \n",
       "124                                         1   \n",
       "263                                         0   \n",
       "175                                         0   \n",
       "282                                         0   \n",
       "\n",
       "     Educational Qualifications_Uneducated  Feedback_Negative   \\\n",
       "54                                       0                   0   \n",
       "124                                      0                   1   \n",
       "263                                      0                   1   \n",
       "175                                      0                   0   \n",
       "282                                      0                   0   \n",
       "\n",
       "     Feedback_Positive  \n",
       "54                   1  \n",
       "124                  0  \n",
       "263                  0  \n",
       "175                  1  \n",
       "282                  1  "
      ]
     },
     "execution_count": 105,
     "metadata": {},
     "output_type": "execute_result"
    }
   ],
   "source": [
    "x_test.head()"
   ]
  },
  {
   "cell_type": "code",
   "execution_count": 106,
   "id": "0fd7f77d",
   "metadata": {},
   "outputs": [],
   "source": [
    "from sklearn import tree\n",
    "regtree=tree.DecisionTreeClassifier(max_depth=3)"
   ]
  },
  {
   "cell_type": "code",
   "execution_count": 107,
   "id": "47cba4c1",
   "metadata": {},
   "outputs": [
    {
     "data": {
      "text/html": [
       "<style>#sk-container-id-6 {color: black;}#sk-container-id-6 pre{padding: 0;}#sk-container-id-6 div.sk-toggleable {background-color: white;}#sk-container-id-6 label.sk-toggleable__label {cursor: pointer;display: block;width: 100%;margin-bottom: 0;padding: 0.3em;box-sizing: border-box;text-align: center;}#sk-container-id-6 label.sk-toggleable__label-arrow:before {content: \"▸\";float: left;margin-right: 0.25em;color: #696969;}#sk-container-id-6 label.sk-toggleable__label-arrow:hover:before {color: black;}#sk-container-id-6 div.sk-estimator:hover label.sk-toggleable__label-arrow:before {color: black;}#sk-container-id-6 div.sk-toggleable__content {max-height: 0;max-width: 0;overflow: hidden;text-align: left;background-color: #f0f8ff;}#sk-container-id-6 div.sk-toggleable__content pre {margin: 0.2em;color: black;border-radius: 0.25em;background-color: #f0f8ff;}#sk-container-id-6 input.sk-toggleable__control:checked~div.sk-toggleable__content {max-height: 200px;max-width: 100%;overflow: auto;}#sk-container-id-6 input.sk-toggleable__control:checked~label.sk-toggleable__label-arrow:before {content: \"▾\";}#sk-container-id-6 div.sk-estimator input.sk-toggleable__control:checked~label.sk-toggleable__label {background-color: #d4ebff;}#sk-container-id-6 div.sk-label input.sk-toggleable__control:checked~label.sk-toggleable__label {background-color: #d4ebff;}#sk-container-id-6 input.sk-hidden--visually {border: 0;clip: rect(1px 1px 1px 1px);clip: rect(1px, 1px, 1px, 1px);height: 1px;margin: -1px;overflow: hidden;padding: 0;position: absolute;width: 1px;}#sk-container-id-6 div.sk-estimator {font-family: monospace;background-color: #f0f8ff;border: 1px dotted black;border-radius: 0.25em;box-sizing: border-box;margin-bottom: 0.5em;}#sk-container-id-6 div.sk-estimator:hover {background-color: #d4ebff;}#sk-container-id-6 div.sk-parallel-item::after {content: \"\";width: 100%;border-bottom: 1px solid gray;flex-grow: 1;}#sk-container-id-6 div.sk-label:hover label.sk-toggleable__label {background-color: #d4ebff;}#sk-container-id-6 div.sk-serial::before {content: \"\";position: absolute;border-left: 1px solid gray;box-sizing: border-box;top: 0;bottom: 0;left: 50%;z-index: 0;}#sk-container-id-6 div.sk-serial {display: flex;flex-direction: column;align-items: center;background-color: white;padding-right: 0.2em;padding-left: 0.2em;position: relative;}#sk-container-id-6 div.sk-item {position: relative;z-index: 1;}#sk-container-id-6 div.sk-parallel {display: flex;align-items: stretch;justify-content: center;background-color: white;position: relative;}#sk-container-id-6 div.sk-item::before, #sk-container-id-6 div.sk-parallel-item::before {content: \"\";position: absolute;border-left: 1px solid gray;box-sizing: border-box;top: 0;bottom: 0;left: 50%;z-index: -1;}#sk-container-id-6 div.sk-parallel-item {display: flex;flex-direction: column;z-index: 1;position: relative;background-color: white;}#sk-container-id-6 div.sk-parallel-item:first-child::after {align-self: flex-end;width: 50%;}#sk-container-id-6 div.sk-parallel-item:last-child::after {align-self: flex-start;width: 50%;}#sk-container-id-6 div.sk-parallel-item:only-child::after {width: 0;}#sk-container-id-6 div.sk-dashed-wrapped {border: 1px dashed gray;margin: 0 0.4em 0.5em 0.4em;box-sizing: border-box;padding-bottom: 0.4em;background-color: white;}#sk-container-id-6 div.sk-label label {font-family: monospace;font-weight: bold;display: inline-block;line-height: 1.2em;}#sk-container-id-6 div.sk-label-container {text-align: center;}#sk-container-id-6 div.sk-container {/* jupyter's `normalize.less` sets `[hidden] { display: none; }` but bootstrap.min.css set `[hidden] { display: none !important; }` so we also need the `!important` here to be able to override the default hidden behavior on the sphinx rendered scikit-learn.org. See: https://github.com/scikit-learn/scikit-learn/issues/21755 */display: inline-block !important;position: relative;}#sk-container-id-6 div.sk-text-repr-fallback {display: none;}</style><div id=\"sk-container-id-6\" class=\"sk-top-container\"><div class=\"sk-text-repr-fallback\"><pre>DecisionTreeClassifier(max_depth=3)</pre><b>In a Jupyter environment, please rerun this cell to show the HTML representation or trust the notebook. <br />On GitHub, the HTML representation is unable to render, please try loading this page with nbviewer.org.</b></div><div class=\"sk-container\" hidden><div class=\"sk-item\"><div class=\"sk-estimator sk-toggleable\"><input class=\"sk-toggleable__control sk-hidden--visually\" id=\"sk-estimator-id-6\" type=\"checkbox\" checked><label for=\"sk-estimator-id-6\" class=\"sk-toggleable__label sk-toggleable__label-arrow\">DecisionTreeClassifier</label><div class=\"sk-toggleable__content\"><pre>DecisionTreeClassifier(max_depth=3)</pre></div></div></div></div></div>"
      ],
      "text/plain": [
       "DecisionTreeClassifier(max_depth=3)"
      ]
     },
     "execution_count": 107,
     "metadata": {},
     "output_type": "execute_result"
    }
   ],
   "source": [
    "regtree.fit(x_train,y_train)"
   ]
  },
  {
   "cell_type": "code",
   "execution_count": 117,
   "id": "99a14fe3",
   "metadata": {},
   "outputs": [
    {
     "data": {
      "text/html": [
       "<style>#sk-container-id-7 {color: black;}#sk-container-id-7 pre{padding: 0;}#sk-container-id-7 div.sk-toggleable {background-color: white;}#sk-container-id-7 label.sk-toggleable__label {cursor: pointer;display: block;width: 100%;margin-bottom: 0;padding: 0.3em;box-sizing: border-box;text-align: center;}#sk-container-id-7 label.sk-toggleable__label-arrow:before {content: \"▸\";float: left;margin-right: 0.25em;color: #696969;}#sk-container-id-7 label.sk-toggleable__label-arrow:hover:before {color: black;}#sk-container-id-7 div.sk-estimator:hover label.sk-toggleable__label-arrow:before {color: black;}#sk-container-id-7 div.sk-toggleable__content {max-height: 0;max-width: 0;overflow: hidden;text-align: left;background-color: #f0f8ff;}#sk-container-id-7 div.sk-toggleable__content pre {margin: 0.2em;color: black;border-radius: 0.25em;background-color: #f0f8ff;}#sk-container-id-7 input.sk-toggleable__control:checked~div.sk-toggleable__content {max-height: 200px;max-width: 100%;overflow: auto;}#sk-container-id-7 input.sk-toggleable__control:checked~label.sk-toggleable__label-arrow:before {content: \"▾\";}#sk-container-id-7 div.sk-estimator input.sk-toggleable__control:checked~label.sk-toggleable__label {background-color: #d4ebff;}#sk-container-id-7 div.sk-label input.sk-toggleable__control:checked~label.sk-toggleable__label {background-color: #d4ebff;}#sk-container-id-7 input.sk-hidden--visually {border: 0;clip: rect(1px 1px 1px 1px);clip: rect(1px, 1px, 1px, 1px);height: 1px;margin: -1px;overflow: hidden;padding: 0;position: absolute;width: 1px;}#sk-container-id-7 div.sk-estimator {font-family: monospace;background-color: #f0f8ff;border: 1px dotted black;border-radius: 0.25em;box-sizing: border-box;margin-bottom: 0.5em;}#sk-container-id-7 div.sk-estimator:hover {background-color: #d4ebff;}#sk-container-id-7 div.sk-parallel-item::after {content: \"\";width: 100%;border-bottom: 1px solid gray;flex-grow: 1;}#sk-container-id-7 div.sk-label:hover label.sk-toggleable__label {background-color: #d4ebff;}#sk-container-id-7 div.sk-serial::before {content: \"\";position: absolute;border-left: 1px solid gray;box-sizing: border-box;top: 0;bottom: 0;left: 50%;z-index: 0;}#sk-container-id-7 div.sk-serial {display: flex;flex-direction: column;align-items: center;background-color: white;padding-right: 0.2em;padding-left: 0.2em;position: relative;}#sk-container-id-7 div.sk-item {position: relative;z-index: 1;}#sk-container-id-7 div.sk-parallel {display: flex;align-items: stretch;justify-content: center;background-color: white;position: relative;}#sk-container-id-7 div.sk-item::before, #sk-container-id-7 div.sk-parallel-item::before {content: \"\";position: absolute;border-left: 1px solid gray;box-sizing: border-box;top: 0;bottom: 0;left: 50%;z-index: -1;}#sk-container-id-7 div.sk-parallel-item {display: flex;flex-direction: column;z-index: 1;position: relative;background-color: white;}#sk-container-id-7 div.sk-parallel-item:first-child::after {align-self: flex-end;width: 50%;}#sk-container-id-7 div.sk-parallel-item:last-child::after {align-self: flex-start;width: 50%;}#sk-container-id-7 div.sk-parallel-item:only-child::after {width: 0;}#sk-container-id-7 div.sk-dashed-wrapped {border: 1px dashed gray;margin: 0 0.4em 0.5em 0.4em;box-sizing: border-box;padding-bottom: 0.4em;background-color: white;}#sk-container-id-7 div.sk-label label {font-family: monospace;font-weight: bold;display: inline-block;line-height: 1.2em;}#sk-container-id-7 div.sk-label-container {text-align: center;}#sk-container-id-7 div.sk-container {/* jupyter's `normalize.less` sets `[hidden] { display: none; }` but bootstrap.min.css set `[hidden] { display: none !important; }` so we also need the `!important` here to be able to override the default hidden behavior on the sphinx rendered scikit-learn.org. See: https://github.com/scikit-learn/scikit-learn/issues/21755 */display: inline-block !important;position: relative;}#sk-container-id-7 div.sk-text-repr-fallback {display: none;}</style><div id=\"sk-container-id-7\" class=\"sk-top-container\"><div class=\"sk-text-repr-fallback\"><pre>DecisionTreeClassifier(max_depth=3)</pre><b>In a Jupyter environment, please rerun this cell to show the HTML representation or trust the notebook. <br />On GitHub, the HTML representation is unable to render, please try loading this page with nbviewer.org.</b></div><div class=\"sk-container\" hidden><div class=\"sk-item\"><div class=\"sk-estimator sk-toggleable\"><input class=\"sk-toggleable__control sk-hidden--visually\" id=\"sk-estimator-id-7\" type=\"checkbox\" checked><label for=\"sk-estimator-id-7\" class=\"sk-toggleable__label sk-toggleable__label-arrow\">DecisionTreeClassifier</label><div class=\"sk-toggleable__content\"><pre>DecisionTreeClassifier(max_depth=3)</pre></div></div></div></div></div>"
      ],
      "text/plain": [
       "DecisionTreeClassifier(max_depth=3)"
      ]
     },
     "execution_count": 117,
     "metadata": {},
     "output_type": "execute_result"
    }
   ],
   "source": [
    "regtree.fit(x_train,y_train)"
   ]
  },
  {
   "cell_type": "code",
   "execution_count": 118,
   "id": "a171f500",
   "metadata": {},
   "outputs": [],
   "source": [
    "#predict\n",
    "\n",
    "y_test_pred=regtree.predict(x_test)"
   ]
  },
  {
   "cell_type": "code",
   "execution_count": 120,
   "id": "c211e219",
   "metadata": {},
   "outputs": [],
   "source": [
    "y_train_pred=regtree.predict(x_train)"
   ]
  },
  {
   "cell_type": "code",
   "execution_count": 121,
   "id": "3c043b78",
   "metadata": {},
   "outputs": [
    {
     "data": {
      "text/plain": [
       "array([0, 1, 1, 1, 1, 1, 1, 1, 1, 1, 0, 0, 1, 1, 1, 1, 1, 0, 1, 1, 0, 0,\n",
       "       1, 1, 0, 1, 1, 1, 0, 0, 1, 1, 1, 1, 1, 1, 1, 0, 1, 1, 1, 1, 1, 1,\n",
       "       1, 1, 0, 1, 0, 1, 1, 1, 1, 1, 1, 1, 1, 1, 1, 1, 0, 1, 1, 1, 0, 1,\n",
       "       0, 1, 1, 0, 1, 0, 1, 1, 1, 1, 1, 1, 1, 1, 1, 1, 1, 1, 1, 1, 1, 1,\n",
       "       1, 1, 0, 1, 0, 1, 1, 1, 1, 1, 1, 1, 0, 0, 1, 1, 0, 0, 1, 0, 1, 1,\n",
       "       1, 1, 1, 1, 1, 1, 1, 1, 1, 1, 1, 1, 0, 1, 1, 1, 0, 1, 1, 0, 1, 1,\n",
       "       1, 1, 0, 1, 1, 0, 0, 1, 1, 1, 1, 1, 0, 1, 1, 1, 1, 1, 1, 1, 1, 1,\n",
       "       1, 1, 1, 1, 1, 1, 1, 1, 1, 1, 1, 1, 0, 1, 1, 1, 0, 1, 0, 0, 1, 1,\n",
       "       1, 1, 1, 1, 1, 1, 1, 0, 1, 1, 1, 0, 1, 1, 0, 1, 1, 0, 1, 1, 1, 1,\n",
       "       1, 1, 0, 1, 1, 1, 0, 1, 1, 0, 1, 1, 1, 1, 1, 1, 1, 1, 0, 0, 0, 1,\n",
       "       0, 1, 0, 0, 1, 0, 1, 1, 1, 1, 1, 1, 1, 1, 1, 0, 1, 1, 1, 1, 1, 1,\n",
       "       1, 1, 1, 1, 1, 1, 0, 1, 1, 1, 1, 1, 1, 1, 1, 1, 1, 1, 1, 1, 1, 0,\n",
       "       1, 1, 1, 1, 1, 1, 1, 1, 1, 1, 1, 0, 1, 1, 1, 1, 1, 0, 1, 1, 0, 1,\n",
       "       1, 1, 1, 1, 0, 1, 1, 1, 1, 1, 1, 0, 1, 1, 1, 1, 1, 1, 1, 1, 1, 1,\n",
       "       1, 1])"
      ]
     },
     "execution_count": 121,
     "metadata": {},
     "output_type": "execute_result"
    }
   ],
   "source": [
    "y_train_pred"
   ]
  },
  {
   "cell_type": "code",
   "execution_count": 112,
   "id": "d0362591",
   "metadata": {},
   "outputs": [],
   "source": [
    "from sklearn.metrics import mean_squared_error, r2_score"
   ]
  },
  {
   "cell_type": "code",
   "execution_count": 122,
   "id": "2fec126e",
   "metadata": {},
   "outputs": [
    {
     "data": {
      "text/plain": [
       "0.0"
      ]
     },
     "execution_count": 122,
     "metadata": {},
     "output_type": "execute_result"
    }
   ],
   "source": [
    "mean_squared_error(y_test,y_test_pred)"
   ]
  },
  {
   "cell_type": "code",
   "execution_count": 123,
   "id": "3c1fff55",
   "metadata": {},
   "outputs": [
    {
     "data": {
      "text/plain": [
       "1.0"
      ]
     },
     "execution_count": 123,
     "metadata": {},
     "output_type": "execute_result"
    }
   ],
   "source": [
    "r2_score(y_train,y_train_pred)"
   ]
  },
  {
   "cell_type": "code",
   "execution_count": 124,
   "id": "6b62d5c2",
   "metadata": {},
   "outputs": [
    {
     "data": {
      "text/plain": [
       "1.0"
      ]
     },
     "execution_count": 124,
     "metadata": {},
     "output_type": "execute_result"
    }
   ],
   "source": [
    "r2_score(y_test,y_test_pred)"
   ]
  },
  {
   "cell_type": "code",
   "execution_count": 178,
   "id": "aece9810",
   "metadata": {},
   "outputs": [
    {
     "name": "stdout",
     "output_type": "stream",
     "text": [
      "Accuracy: 1.0\n"
     ]
    }
   ],
   "source": [
    "\n",
    "\n",
    "accuracy = accuracy_score(y_test, y_test_pred.round())  \n",
    "print(f\"Accuracy: {accuracy}\")\n"
   ]
  },
  {
   "cell_type": "code",
   "execution_count": 125,
   "id": "5ab56c96",
   "metadata": {},
   "outputs": [
    {
     "name": "stdout",
     "output_type": "stream",
     "text": [
      "Confusion Matrix: [[14  0]\n",
      " [ 0 64]]\n"
     ]
    }
   ],
   "source": [
    "\n",
    "cm = confusion_matrix(y_test, y_test_pred.round())\n",
    "print(f\"Confusion Matrix: {cm}\")\n"
   ]
  },
  {
   "cell_type": "code",
   "execution_count": 128,
   "id": "d40645b1",
   "metadata": {},
   "outputs": [],
   "source": [
    "dot_data=tree.export_graphviz(regtree,out_file=None,feature_names=x_train.columns,filled=True)"
   ]
  },
  {
   "cell_type": "code",
   "execution_count": 129,
   "id": "61879fdc",
   "metadata": {},
   "outputs": [],
   "source": [
    "from IPython.display import Image"
   ]
  },
  {
   "cell_type": "code",
   "execution_count": 130,
   "id": "c851c4cd",
   "metadata": {},
   "outputs": [],
   "source": [
    "import pydotplus"
   ]
  },
  {
   "cell_type": "code",
   "execution_count": 131,
   "id": "1da221ad",
   "metadata": {},
   "outputs": [],
   "source": [
    "graph =pydotplus.graph_from_dot_data(dot_data)\n"
   ]
  },
  {
   "cell_type": "code",
   "execution_count": 132,
   "id": "ab0b6b79",
   "metadata": {},
   "outputs": [
    {
     "name": "stdout",
     "output_type": "stream",
     "text": [
      "Requirement already satisfied: pydotplus in c:\\users\\vasala harinadha\\anaconda3\\lib\\site-packages (2.0.2)\n",
      "Requirement already satisfied: pyparsing>=2.0.1 in c:\\users\\vasala harinadha\\anaconda3\\lib\\site-packages (from pydotplus) (3.0.9)\n",
      "Note: you may need to restart the kernel to use updated packages.\n"
     ]
    }
   ],
   "source": [
    "pip install pydotplus\n"
   ]
  },
  {
   "cell_type": "code",
   "execution_count": null,
   "id": "37d61dc6",
   "metadata": {},
   "outputs": [],
   "source": [
    "from IPython.display import Image\n",
    "Image(graph.create_png())"
   ]
  },
  {
   "cell_type": "code",
   "execution_count": null,
   "id": "4a7a6fac",
   "metadata": {},
   "outputs": [],
   "source": [
    "Image(graph.create_png())"
   ]
  },
  {
   "cell_type": "code",
   "execution_count": null,
   "id": "2def02f4",
   "metadata": {},
   "outputs": [],
   "source": [
    "regtree=tree.DecisionTreeClassifier(max_depth=3)\n",
    "regtree.fit(x_train,y_train)\n",
    "dot_data=tree.export_graphviz(regtree,out_file=None,feature_names=x_train.columns,filled=True)\n",
    "graph =pydotplus.graph_from_dot_data(dot_data)\n",
    "Image(graph.create_png())"
   ]
  },
  {
   "cell_type": "code",
   "execution_count": null,
   "id": "8e4f7324",
   "metadata": {},
   "outputs": [],
   "source": [
    "regtree=tree.DecisionTreeClassifier(min_samples_split=3)\n",
    "regtree.fit(x_train,y_train)\n",
    "dot_data=tree.export_graphviz(regtree,out_file=None,feature_names=x_train.columns,filled=True)\n",
    "graph =pydotplus.graph_from_dot_data(dot_data)\n",
    "Image(graph.create_png())"
   ]
  },
  {
   "cell_type": "code",
   "execution_count": null,
   "id": "918365a1",
   "metadata": {},
   "outputs": [],
   "source": [
    "regtree=tree.DecisionTreeClassifier(min_samples_leaf=3)\n",
    "regtree.fit(x_train,y_train)\n",
    "dot_data=tree.export_graphviz(regtree,out_file=None,feature_names=x_train.columns,filled=True)\n",
    "graph =pydotplus.graph_from_dot_data(dot_data)\n",
    "Image(graph.create_png())"
   ]
  },
  {
   "cell_type": "markdown",
   "id": "80067e4b",
   "metadata": {},
   "source": [
    "# RandomForest Classifier"
   ]
  },
  {
   "cell_type": "code",
   "execution_count": 134,
   "id": "7a6de878",
   "metadata": {},
   "outputs": [],
   "source": [
    "from sklearn.ensemble import RandomForestClassifier"
   ]
  },
  {
   "cell_type": "code",
   "execution_count": 135,
   "id": "13591c3b",
   "metadata": {},
   "outputs": [],
   "source": [
    "rf_clf=RandomForestClassifier(n_estimators=1000,n_jobs=-1,random_state=42)"
   ]
  },
  {
   "cell_type": "code",
   "execution_count": 136,
   "id": "62856820",
   "metadata": {},
   "outputs": [
    {
     "data": {
      "text/html": [
       "<style>#sk-container-id-8 {color: black;}#sk-container-id-8 pre{padding: 0;}#sk-container-id-8 div.sk-toggleable {background-color: white;}#sk-container-id-8 label.sk-toggleable__label {cursor: pointer;display: block;width: 100%;margin-bottom: 0;padding: 0.3em;box-sizing: border-box;text-align: center;}#sk-container-id-8 label.sk-toggleable__label-arrow:before {content: \"▸\";float: left;margin-right: 0.25em;color: #696969;}#sk-container-id-8 label.sk-toggleable__label-arrow:hover:before {color: black;}#sk-container-id-8 div.sk-estimator:hover label.sk-toggleable__label-arrow:before {color: black;}#sk-container-id-8 div.sk-toggleable__content {max-height: 0;max-width: 0;overflow: hidden;text-align: left;background-color: #f0f8ff;}#sk-container-id-8 div.sk-toggleable__content pre {margin: 0.2em;color: black;border-radius: 0.25em;background-color: #f0f8ff;}#sk-container-id-8 input.sk-toggleable__control:checked~div.sk-toggleable__content {max-height: 200px;max-width: 100%;overflow: auto;}#sk-container-id-8 input.sk-toggleable__control:checked~label.sk-toggleable__label-arrow:before {content: \"▾\";}#sk-container-id-8 div.sk-estimator input.sk-toggleable__control:checked~label.sk-toggleable__label {background-color: #d4ebff;}#sk-container-id-8 div.sk-label input.sk-toggleable__control:checked~label.sk-toggleable__label {background-color: #d4ebff;}#sk-container-id-8 input.sk-hidden--visually {border: 0;clip: rect(1px 1px 1px 1px);clip: rect(1px, 1px, 1px, 1px);height: 1px;margin: -1px;overflow: hidden;padding: 0;position: absolute;width: 1px;}#sk-container-id-8 div.sk-estimator {font-family: monospace;background-color: #f0f8ff;border: 1px dotted black;border-radius: 0.25em;box-sizing: border-box;margin-bottom: 0.5em;}#sk-container-id-8 div.sk-estimator:hover {background-color: #d4ebff;}#sk-container-id-8 div.sk-parallel-item::after {content: \"\";width: 100%;border-bottom: 1px solid gray;flex-grow: 1;}#sk-container-id-8 div.sk-label:hover label.sk-toggleable__label {background-color: #d4ebff;}#sk-container-id-8 div.sk-serial::before {content: \"\";position: absolute;border-left: 1px solid gray;box-sizing: border-box;top: 0;bottom: 0;left: 50%;z-index: 0;}#sk-container-id-8 div.sk-serial {display: flex;flex-direction: column;align-items: center;background-color: white;padding-right: 0.2em;padding-left: 0.2em;position: relative;}#sk-container-id-8 div.sk-item {position: relative;z-index: 1;}#sk-container-id-8 div.sk-parallel {display: flex;align-items: stretch;justify-content: center;background-color: white;position: relative;}#sk-container-id-8 div.sk-item::before, #sk-container-id-8 div.sk-parallel-item::before {content: \"\";position: absolute;border-left: 1px solid gray;box-sizing: border-box;top: 0;bottom: 0;left: 50%;z-index: -1;}#sk-container-id-8 div.sk-parallel-item {display: flex;flex-direction: column;z-index: 1;position: relative;background-color: white;}#sk-container-id-8 div.sk-parallel-item:first-child::after {align-self: flex-end;width: 50%;}#sk-container-id-8 div.sk-parallel-item:last-child::after {align-self: flex-start;width: 50%;}#sk-container-id-8 div.sk-parallel-item:only-child::after {width: 0;}#sk-container-id-8 div.sk-dashed-wrapped {border: 1px dashed gray;margin: 0 0.4em 0.5em 0.4em;box-sizing: border-box;padding-bottom: 0.4em;background-color: white;}#sk-container-id-8 div.sk-label label {font-family: monospace;font-weight: bold;display: inline-block;line-height: 1.2em;}#sk-container-id-8 div.sk-label-container {text-align: center;}#sk-container-id-8 div.sk-container {/* jupyter's `normalize.less` sets `[hidden] { display: none; }` but bootstrap.min.css set `[hidden] { display: none !important; }` so we also need the `!important` here to be able to override the default hidden behavior on the sphinx rendered scikit-learn.org. See: https://github.com/scikit-learn/scikit-learn/issues/21755 */display: inline-block !important;position: relative;}#sk-container-id-8 div.sk-text-repr-fallback {display: none;}</style><div id=\"sk-container-id-8\" class=\"sk-top-container\"><div class=\"sk-text-repr-fallback\"><pre>RandomForestClassifier(n_estimators=1000, n_jobs=-1, random_state=42)</pre><b>In a Jupyter environment, please rerun this cell to show the HTML representation or trust the notebook. <br />On GitHub, the HTML representation is unable to render, please try loading this page with nbviewer.org.</b></div><div class=\"sk-container\" hidden><div class=\"sk-item\"><div class=\"sk-estimator sk-toggleable\"><input class=\"sk-toggleable__control sk-hidden--visually\" id=\"sk-estimator-id-8\" type=\"checkbox\" checked><label for=\"sk-estimator-id-8\" class=\"sk-toggleable__label sk-toggleable__label-arrow\">RandomForestClassifier</label><div class=\"sk-toggleable__content\"><pre>RandomForestClassifier(n_estimators=1000, n_jobs=-1, random_state=42)</pre></div></div></div></div></div>"
      ],
      "text/plain": [
       "RandomForestClassifier(n_estimators=1000, n_jobs=-1, random_state=42)"
      ]
     },
     "execution_count": 136,
     "metadata": {},
     "output_type": "execute_result"
    }
   ],
   "source": [
    "rf_clf.fit(x_train,y_train)"
   ]
  },
  {
   "cell_type": "code",
   "execution_count": 138,
   "id": "4d67fbb9",
   "metadata": {},
   "outputs": [
    {
     "data": {
      "text/plain": [
       "array([[14,  0],\n",
       "       [ 0, 64]], dtype=int64)"
      ]
     },
     "execution_count": 138,
     "metadata": {},
     "output_type": "execute_result"
    }
   ],
   "source": [
    "confusion_matrix(y_test,rf_clf.predict(x_test))"
   ]
  },
  {
   "cell_type": "code",
   "execution_count": 139,
   "id": "baf735cb",
   "metadata": {},
   "outputs": [
    {
     "data": {
      "text/plain": [
       "1.0"
      ]
     },
     "execution_count": 139,
     "metadata": {},
     "output_type": "execute_result"
    }
   ],
   "source": [
    "accuracy_score(y_test,rf_clf.predict(x_test))"
   ]
  },
  {
   "cell_type": "markdown",
   "id": "77f28576",
   "metadata": {},
   "source": [
    "# GridSearchCV"
   ]
  },
  {
   "cell_type": "code",
   "execution_count": 141,
   "id": "076c201b",
   "metadata": {},
   "outputs": [
    {
     "name": "stdout",
     "output_type": "stream",
     "text": [
      "Best Parameters: {'metric': 'manhattan', 'n_neighbors': 7, 'weights': 'distance'}\n",
      "Best Cross-Validation Score: 0.9193548387096774\n",
      "Test Accuracy: 0.9102564102564102\n"
     ]
    }
   ],
   "source": [
    "from sklearn.model_selection import GridSearchCV\n",
    "\n",
    "knn = KNeighborsClassifier()\n",
    "\n",
    "param_grid = {\n",
    "    'n_neighbors': [3, 5, 7, 9, 11],\n",
    "    'weights': ['uniform', 'distance'],\n",
    "    'metric': ['euclidean', 'manhattan', 'minkowski']\n",
    "}\n",
    "\n",
    "grid_search = GridSearchCV(estimator=knn, param_grid=param_grid, cv=5, scoring='accuracy', n_jobs=-1)\n",
    "\n",
    "grid_search.fit(x_train, y_train)\n",
    "\n",
    "print(\"Best Parameters:\", grid_search.best_params_)\n",
    "print(\"Best Cross-Validation Score:\", grid_search.best_score_)\n",
    "\n",
    "best_knn = grid_search.best_estimator_\n",
    "y_pred = best_knn.predict(x_test)\n",
    "\n",
    "accuracy = accuracy_score(y_test, y_pred)\n",
    "print(\"Test Accuracy:\", accuracy)\n"
   ]
  },
  {
   "cell_type": "code",
   "execution_count": null,
   "id": "4ea98eb8",
   "metadata": {},
   "outputs": [],
   "source": []
  },
  {
   "cell_type": "markdown",
   "id": "e9639aef",
   "metadata": {},
   "source": [
    "# XGB"
   ]
  },
  {
   "cell_type": "code",
   "execution_count": 142,
   "id": "2d866998",
   "metadata": {},
   "outputs": [],
   "source": [
    "import xgboost as xgb"
   ]
  },
  {
   "cell_type": "code",
   "execution_count": 143,
   "id": "68a1a974",
   "metadata": {},
   "outputs": [],
   "source": [
    "mk=xgb.XGBClassifier(max_depth=3,n_estimators=1000,learning_rate=0.3,n_jobs=-1)"
   ]
  },
  {
   "cell_type": "code",
   "execution_count": 144,
   "id": "5fb9b636",
   "metadata": {},
   "outputs": [
    {
     "data": {
      "text/html": [
       "<style>#sk-container-id-9 {color: black;}#sk-container-id-9 pre{padding: 0;}#sk-container-id-9 div.sk-toggleable {background-color: white;}#sk-container-id-9 label.sk-toggleable__label {cursor: pointer;display: block;width: 100%;margin-bottom: 0;padding: 0.3em;box-sizing: border-box;text-align: center;}#sk-container-id-9 label.sk-toggleable__label-arrow:before {content: \"▸\";float: left;margin-right: 0.25em;color: #696969;}#sk-container-id-9 label.sk-toggleable__label-arrow:hover:before {color: black;}#sk-container-id-9 div.sk-estimator:hover label.sk-toggleable__label-arrow:before {color: black;}#sk-container-id-9 div.sk-toggleable__content {max-height: 0;max-width: 0;overflow: hidden;text-align: left;background-color: #f0f8ff;}#sk-container-id-9 div.sk-toggleable__content pre {margin: 0.2em;color: black;border-radius: 0.25em;background-color: #f0f8ff;}#sk-container-id-9 input.sk-toggleable__control:checked~div.sk-toggleable__content {max-height: 200px;max-width: 100%;overflow: auto;}#sk-container-id-9 input.sk-toggleable__control:checked~label.sk-toggleable__label-arrow:before {content: \"▾\";}#sk-container-id-9 div.sk-estimator input.sk-toggleable__control:checked~label.sk-toggleable__label {background-color: #d4ebff;}#sk-container-id-9 div.sk-label input.sk-toggleable__control:checked~label.sk-toggleable__label {background-color: #d4ebff;}#sk-container-id-9 input.sk-hidden--visually {border: 0;clip: rect(1px 1px 1px 1px);clip: rect(1px, 1px, 1px, 1px);height: 1px;margin: -1px;overflow: hidden;padding: 0;position: absolute;width: 1px;}#sk-container-id-9 div.sk-estimator {font-family: monospace;background-color: #f0f8ff;border: 1px dotted black;border-radius: 0.25em;box-sizing: border-box;margin-bottom: 0.5em;}#sk-container-id-9 div.sk-estimator:hover {background-color: #d4ebff;}#sk-container-id-9 div.sk-parallel-item::after {content: \"\";width: 100%;border-bottom: 1px solid gray;flex-grow: 1;}#sk-container-id-9 div.sk-label:hover label.sk-toggleable__label {background-color: #d4ebff;}#sk-container-id-9 div.sk-serial::before {content: \"\";position: absolute;border-left: 1px solid gray;box-sizing: border-box;top: 0;bottom: 0;left: 50%;z-index: 0;}#sk-container-id-9 div.sk-serial {display: flex;flex-direction: column;align-items: center;background-color: white;padding-right: 0.2em;padding-left: 0.2em;position: relative;}#sk-container-id-9 div.sk-item {position: relative;z-index: 1;}#sk-container-id-9 div.sk-parallel {display: flex;align-items: stretch;justify-content: center;background-color: white;position: relative;}#sk-container-id-9 div.sk-item::before, #sk-container-id-9 div.sk-parallel-item::before {content: \"\";position: absolute;border-left: 1px solid gray;box-sizing: border-box;top: 0;bottom: 0;left: 50%;z-index: -1;}#sk-container-id-9 div.sk-parallel-item {display: flex;flex-direction: column;z-index: 1;position: relative;background-color: white;}#sk-container-id-9 div.sk-parallel-item:first-child::after {align-self: flex-end;width: 50%;}#sk-container-id-9 div.sk-parallel-item:last-child::after {align-self: flex-start;width: 50%;}#sk-container-id-9 div.sk-parallel-item:only-child::after {width: 0;}#sk-container-id-9 div.sk-dashed-wrapped {border: 1px dashed gray;margin: 0 0.4em 0.5em 0.4em;box-sizing: border-box;padding-bottom: 0.4em;background-color: white;}#sk-container-id-9 div.sk-label label {font-family: monospace;font-weight: bold;display: inline-block;line-height: 1.2em;}#sk-container-id-9 div.sk-label-container {text-align: center;}#sk-container-id-9 div.sk-container {/* jupyter's `normalize.less` sets `[hidden] { display: none; }` but bootstrap.min.css set `[hidden] { display: none !important; }` so we also need the `!important` here to be able to override the default hidden behavior on the sphinx rendered scikit-learn.org. See: https://github.com/scikit-learn/scikit-learn/issues/21755 */display: inline-block !important;position: relative;}#sk-container-id-9 div.sk-text-repr-fallback {display: none;}</style><div id=\"sk-container-id-9\" class=\"sk-top-container\"><div class=\"sk-text-repr-fallback\"><pre>XGBClassifier(base_score=None, booster=None, callbacks=None,\n",
       "              colsample_bylevel=None, colsample_bynode=None,\n",
       "              colsample_bytree=None, device=None, early_stopping_rounds=None,\n",
       "              enable_categorical=False, eval_metric=None, feature_types=None,\n",
       "              gamma=None, grow_policy=None, importance_type=None,\n",
       "              interaction_constraints=None, learning_rate=0.3, max_bin=None,\n",
       "              max_cat_threshold=None, max_cat_to_onehot=None,\n",
       "              max_delta_step=None, max_depth=3, max_leaves=None,\n",
       "              min_child_weight=None, missing=nan, monotone_constraints=None,\n",
       "              multi_strategy=None, n_estimators=1000, n_jobs=-1,\n",
       "              num_parallel_tree=None, random_state=None, ...)</pre><b>In a Jupyter environment, please rerun this cell to show the HTML representation or trust the notebook. <br />On GitHub, the HTML representation is unable to render, please try loading this page with nbviewer.org.</b></div><div class=\"sk-container\" hidden><div class=\"sk-item\"><div class=\"sk-estimator sk-toggleable\"><input class=\"sk-toggleable__control sk-hidden--visually\" id=\"sk-estimator-id-9\" type=\"checkbox\" checked><label for=\"sk-estimator-id-9\" class=\"sk-toggleable__label sk-toggleable__label-arrow\">XGBClassifier</label><div class=\"sk-toggleable__content\"><pre>XGBClassifier(base_score=None, booster=None, callbacks=None,\n",
       "              colsample_bylevel=None, colsample_bynode=None,\n",
       "              colsample_bytree=None, device=None, early_stopping_rounds=None,\n",
       "              enable_categorical=False, eval_metric=None, feature_types=None,\n",
       "              gamma=None, grow_policy=None, importance_type=None,\n",
       "              interaction_constraints=None, learning_rate=0.3, max_bin=None,\n",
       "              max_cat_threshold=None, max_cat_to_onehot=None,\n",
       "              max_delta_step=None, max_depth=3, max_leaves=None,\n",
       "              min_child_weight=None, missing=nan, monotone_constraints=None,\n",
       "              multi_strategy=None, n_estimators=1000, n_jobs=-1,\n",
       "              num_parallel_tree=None, random_state=None, ...)</pre></div></div></div></div></div>"
      ],
      "text/plain": [
       "XGBClassifier(base_score=None, booster=None, callbacks=None,\n",
       "              colsample_bylevel=None, colsample_bynode=None,\n",
       "              colsample_bytree=None, device=None, early_stopping_rounds=None,\n",
       "              enable_categorical=False, eval_metric=None, feature_types=None,\n",
       "              gamma=None, grow_policy=None, importance_type=None,\n",
       "              interaction_constraints=None, learning_rate=0.3, max_bin=None,\n",
       "              max_cat_threshold=None, max_cat_to_onehot=None,\n",
       "              max_delta_step=None, max_depth=3, max_leaves=None,\n",
       "              min_child_weight=None, missing=nan, monotone_constraints=None,\n",
       "              multi_strategy=None, n_estimators=1000, n_jobs=-1,\n",
       "              num_parallel_tree=None, random_state=None, ...)"
      ]
     },
     "execution_count": 144,
     "metadata": {},
     "output_type": "execute_result"
    }
   ],
   "source": [
    "mk.fit(x_train,y_train)"
   ]
  },
  {
   "cell_type": "code",
   "execution_count": 145,
   "id": "c31b2447",
   "metadata": {},
   "outputs": [
    {
     "data": {
      "text/plain": [
       "1.0"
      ]
     },
     "execution_count": 145,
     "metadata": {},
     "output_type": "execute_result"
    }
   ],
   "source": [
    "accuracy_score(y_test,mk.predict(x_test))\n"
   ]
  },
  {
   "cell_type": "code",
   "execution_count": 210,
   "id": "2457db01",
   "metadata": {},
   "outputs": [
    {
     "data": {
      "text/plain": [
       "<Axes: title={'center': 'Feature importance'}, xlabel='F score', ylabel='Features'>"
      ]
     },
     "execution_count": 210,
     "metadata": {},
     "output_type": "execute_result"
    },
    {
     "data": {
      "image/png": "[encoded data removed]",
      "text/plain": [
       "<Figure size 640x480 with 1 Axes>"
      ]
     },
     "metadata": {},
     "output_type": "display_data"
    }
   ],
   "source": [
    "xgb.plot_importance(mk)"
   ]
  },
  {
   "cell_type": "code",
   "execution_count": null,
   "id": "bdd6fedb",
   "metadata": {},
   "outputs": [],
   "source": []
  },
  {
   "cell_type": "code",
   "execution_count": null,
   "id": "e0d92b06",
   "metadata": {},
   "outputs": [],
   "source": []
  },
  {
   "cell_type": "code",
   "execution_count": null,
   "id": "1f2e2984",
   "metadata": {},
   "outputs": [],
   "source": []
  }
 ],
 "metadata": {
  "kernelspec": {
   "display_name": "Python 3 (ipykernel)",
   "language": "python",
   "name": "python3"
  },
  "language_info": {
   "codemirror_mode": {
    "name": "ipython",
    "version": 3
   },
   "file_extension": ".py",
   "mimetype": "text/x-python",
   "name": "python",
   "nbconvert_exporter": "python",
   "pygments_lexer": "ipython3",
   "version": "3.11.5"
  }
 },
 "nbformat": 4,
 "nbformat_minor": 5
}
